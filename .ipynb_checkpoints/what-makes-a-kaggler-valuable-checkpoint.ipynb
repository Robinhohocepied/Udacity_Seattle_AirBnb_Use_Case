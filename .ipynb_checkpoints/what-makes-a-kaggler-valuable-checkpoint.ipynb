{
 "cells": [
  {
   "cell_type": "markdown",
   "metadata": {
    "_uuid": "f654fe2ac18dd51776da93b40cdcd889926e938a"
   },
   "source": [
    "# What Makes a Kaggler Valuable? \n",
    "Ever wondered what you should do to add some weight to your Data Science resume? Many of us already have a good notion of what is important to build a strong data science career. Of what is relevant to increase our compensation. But I personally, have never seen a systematic, data based, approach to this problem. That was the motivation of building a model to explain what makes a data scientist valuable to the market. Some results are pretty obvious, but many others might really help you boost your earnings.\n",
    "\n",
    "* [See the article published on **Towards Data Science** that was written from this Kernel](https://towardsdatascience.com/what-makes-a-data-scientist-valuable-b723e6e814aa) \n",
    "\n",
    "* [We also deployed a model at AWS Lambda to predict the probability of earning more than U$100k per year. Check the code.](https://github.com/andresionek91/kaggle-top20-predictor)\n",
    "\n",
    "* [Finally we deployed a Flask App so you can predict your own probability.](http://www.data-scientist-value.com/)\n",
    "\n",
    "[![website](https://i.imgur.com/8ahkF2J.png)](http://www.data-scientist-value.com/)\n",
    "\n",
    "## Learning how to increase your own compensation\n",
    "We only could do this study because Kaggle has released the data from its [second annual Machine Learning and Data Science Survey](https://www.kaggle.com/kaggle/kaggle-survey-2018). The survey was live for one week in October 2018 and got a total of 23,859 responses. The results include raw numbers about who is working with data, what’s happening with machine learning in different industries, and the best ways for new data scientists to break into the field.\n",
    "\n",
    "With access to that data, we wanted to understand what affects a Kaggler’s compensation (we are calling Kaggler anyone that answered the survey). Our idea was to give you precise insights of what is more valuable to the market, so you can stop spending time on things that won’t have a good ROI (return on investment) and speed up towards higher compensation. Following those insights, extracted from data, I hope one day you might find yourself laying down on a pile of money like Mr. Babineaux down here.\n",
    "\n",
    "![](https://media.giphy.com/media/w1z2ilkWZagRG/giphy.gif)\n",
    "\n",
    "## Considerations\n",
    "1. We are assuming that respondents were honest and sincere in their answers.\n",
    "2. This may not represent the whole universe of data professionals (it only has answers from Kaggle users), but it's a good proxy.\n",
    "\n",
    "# Basic Cleaning\n",
    "Survey answers are messy... Most survey softwares dont deliver the data on tidy format, and it is exactly the case of this survey. So we are going to have some really hard work to clean it. First lets just look at some personal data and clean it while we do our EDA."
   ]
  },
  {
   "cell_type": "code",
   "execution_count": null,
   "metadata": {
    "_cell_guid": "b1076dfc-b9ad-4769-8c92-a6c4dae69d19",
    "_kg_hide-input": false,
    "_kg_hide-output": false,
    "_uuid": "8f2839f25d086af736a60e9eeb907d3b93b6e0e5"
   },
   "outputs": [],
   "source": [
    "import numpy as np \n",
    "import pandas as pd\n",
    "\n",
    "# Loading the multiple choices dataset, we will not look to the free form data on this study\n",
    "mc = pd.read_csv('../input/kaggle-survey-2018/multipleChoiceResponses.csv', low_memory=False)\n",
    "\n",
    "# Separating questions from answers\n",
    "# This Series stores all questions\n",
    "mcQ = mc.iloc[0,:]\n",
    "# This DataFrame stores all answers\n",
    "mcA = mc.iloc[1:,:]"
   ]
  },
  {
   "cell_type": "code",
   "execution_count": null,
   "metadata": {
    "_kg_hide-input": true,
    "_uuid": "82439ae25f1c969f7b355b6829e619a2ab4f116e"
   },
   "outputs": [],
   "source": [
    "# removing everyone that took less than 4 minutes or more than 600 minutes to answer the survey\n",
    "less3 = mcA[round(mcA.iloc[:,0].astype(int) / 60) <= 4].index\n",
    "mcA = mcA.drop(less3, axis=0)\n",
    "more300 = mcA[round(mcA.iloc[:,0].astype(int) / 60) >= 600].index\n",
    "mcA = mcA.drop(more300, axis=0)\n",
    "\n",
    "# removing gender trolls, because we noticed from other kernels thata there are some ouliers here\n",
    "gender_trolls = mcA[(mcA.Q1 == 'Prefer to self-describe') | (mcA.Q1 == 'Prefer not to say')].index\n",
    "mcA = mcA.drop(list(gender_trolls), axis=0)\n",
    "\n",
    "# removing student trolls, because a student won't make more than 250k a year.\n",
    "student_trolls = mcA[((mcA.Q6 == 'Student') & (mcA.Q9 > '500,000+')) | \\\n",
    "                     ((mcA.Q6 == 'Student') & (mcA.Q9 > '400-500,000')) | \\\n",
    "                     ((mcA.Q6 == 'Student') & (mcA.Q9 > '300-400,000')) | \\\n",
    "                     ((mcA.Q6 == 'Student') & (mcA.Q9 > '250-300,000'))].index\n",
    "mcA = mcA.drop(list(student_trolls), axis=0)\n",
    "\n",
    "# dropping all NaN and I do not wish to disclose my approximate yearly compensation, because we are only interested in respondents that revealed their earnings\n",
    "mcA = mcA[~mcA.Q9.isnull()].copy()\n",
    "not_disclosed = mcA[mcA.Q9 == 'I do not wish to disclose my approximate yearly compensation'].index\n",
    "mcA = mcA.drop(list(not_disclosed), axis=0)"
   ]
  },
  {
   "cell_type": "markdown",
   "metadata": {
    "_uuid": "6e34bd79b1c58cf9b09a6775017baa39484f35b1"
   },
   "source": [
    "We noticed that questions 1 through 9 are all about personal information of data scientists. So we are first focusing on them."
   ]
  },
  {
   "cell_type": "code",
   "execution_count": null,
   "metadata": {
    "_kg_hide-input": true,
    "_kg_hide-output": false,
    "_uuid": "6e0f577cd2b33afa98527ee66e553d1734e87242",
    "scrolled": false
   },
   "outputs": [],
   "source": [
    "# Creating a table with personal data\n",
    "personal_data = mcA.iloc[:,:13].copy()\n",
    "\n",
    "# renaming columns\n",
    "cols = ['survey_duration', 'gender', 'gender_text', 'age', 'country', 'education_level', 'undergrad_major', 'role', 'role_text',\n",
    "        'employer_industry', 'employer_industry_text', 'years_experience', 'yearly_compensation']\n",
    "personal_data.columns = cols\n",
    "\n",
    "# Drop text and survey_duration columns \n",
    "personal_data.drop(['survey_duration', 'gender_text', 'role_text', 'employer_industry_text'], axis=1, inplace=True)\n",
    "\n",
    "personal_data.head(3)"
   ]
  },
  {
   "cell_type": "code",
   "execution_count": null,
   "metadata": {
    "_kg_hide-input": true,
    "_kg_hide-output": true,
    "_uuid": "5c4b7065d9a9fe39a4819ce3be74491af6dc9770"
   },
   "outputs": [],
   "source": [
    "from pandas.api.types import CategoricalDtype\n",
    "\n",
    "# transforming compensation into category type and ordening the values\n",
    "categ = ['0-10,000', '10-20,000', '20-30,000', '30-40,000', '40-50,000',\n",
    "         '50-60,000', '60-70,000', '70-80,000', '80-90,000', '90-100,000',\n",
    "         '100-125,000', '125-150,000', '150-200,000', '200-250,000', '250-300,000',\n",
    "         '300-400,000', '400-500,000', '500,000+']\n",
    "cat_type = CategoricalDtype(categories=categ, ordered=True)\n",
    "personal_data.yearly_compensation = personal_data.yearly_compensation.astype(cat_type)\n",
    "# Doing this we are transforming the category \"I do not wish to disclose my approximate yearly compensation\" into NaN\n",
    "\n",
    "# transforming age into category type and sorting the values\n",
    "categ = ['18-21', '22-24', '25-29', '30-34', '35-39', '40-44', \n",
    "         '45-49', '50-54', '55-59', '60-69', '70-79', '80+']\n",
    "cat_type = CategoricalDtype(categories=categ, ordered=True)\n",
    "personal_data.age = personal_data.age.astype(cat_type)\n",
    "\n",
    "# transforming years of experience into category type and sorting the values\n",
    "categ = ['0-1', '1-2', '2-3', '3-4', '4-5', '5-10',\n",
    "         '10-15', '15-20', '20-25', '25-30', '30+']\n",
    "cat_type = CategoricalDtype(categories=categ, ordered=True)\n",
    "personal_data.years_experience = personal_data.years_experience.astype(cat_type)\n",
    "\n",
    "# transforming education level into category type and sorting the values\n",
    "categ = ['No formal education past high school', 'Some college/university study without earning a bachelor’s degree',\n",
    "         'Professional degree', 'Bachelor’s degree', 'Master’s degree', 'Doctoral degree', 'I prefer not to answer']\n",
    "cat_type = CategoricalDtype(categories=categ, ordered=True)\n",
    "personal_data.education_level = personal_data.education_level.astype(cat_type)"
   ]
  },
  {
   "cell_type": "markdown",
   "metadata": {
    "_uuid": "47683af39eb52ce6d04a930498fb5a20c4d839c9"
   },
   "source": [
    "We have already dropped all participants that did not disclose their compensation. Let's see how many answers we have at each compensation, including NaNs (we expect to see none)."
   ]
  },
  {
   "cell_type": "code",
   "execution_count": null,
   "metadata": {
    "_kg_hide-input": false,
    "_uuid": "a89c0a5b4686b2e753111db40d4ac4e5ee28d943"
   },
   "outputs": [],
   "source": [
    "personal_data.yearly_compensation.value_counts(dropna=False, sort=False)"
   ]
  },
  {
   "cell_type": "markdown",
   "metadata": {
    "_uuid": "ac6e289a38c9ebfd02402685fc68819631176b90"
   },
   "source": [
    "Now we want to create a numerical feature that describes compensation. I'm doing that by summing the lower and upper bound and then dividing by 2.  The highest range (500,000+) is summed with itself."
   ]
  },
  {
   "cell_type": "code",
   "execution_count": null,
   "metadata": {
    "_kg_hide-input": true,
    "_uuid": "b162f513fb2bad326de759eda491b6cc0fc18196"
   },
   "outputs": [],
   "source": [
    "compensation = personal_data.yearly_compensation.str.replace(',', '').str.replace('500000\\+', '500-500000').str.split('-')\n",
    "personal_data['yearly_compensation_numerical'] = compensation.apply(lambda x: (int(x[0]) * 1000 + int(x[1]))/ 2) / 1000 # it is calculated in thousand dollars\n",
    "print('Dataset Shape: ', personal_data.shape)\n",
    "personal_data.head(3)"
   ]
  },
  {
   "cell_type": "markdown",
   "metadata": {
    "_uuid": "9028626ee08f688e28f04cc990997f5bde54a75d"
   },
   "source": [
    "---\n",
    "# EDA - Studying the problem: How personal data affects compensation?\n",
    "\n",
    "Now that we have done a basic data cleaning, we are able to do some in depth EDA and ultimately build a model to predict the earnings of data scientists and find the most important features that affect compensation. Because we had 50 multiple choice questions, many of them with multiple answers, we will do an EDA only to analyse how personal data correlates to compensation. Other features will be used later on this study, on the modeling step.\n",
    "\n",
    "**Note about splitting the data into train and test sets:** \n",
    "1. Ideally we would split the data into train and test sets before doing the Exploratory Data Analysis. This is good practice to avoid cognitive bias and overfitting the data. I'm not doing it here because I have already studied many of this dataset's kernels before start working on the data, so I'm probably already biased. \n",
    "2. We also have static data, I mean we are not getting any new answers from this survey. If we do the EDA and impute NaNs with the whole dataset, instead of just the training set, we shouldn't have any problem, because we are working with the full universe of data available. \n",
    "\n",
    "### Finding the Top 20% most well paid"
   ]
  },
  {
   "cell_type": "code",
   "execution_count": null,
   "metadata": {
    "_kg_hide-input": false,
    "_uuid": "3e437982121d689fac74ae7e66ef6b87aee6629c"
   },
   "outputs": [],
   "source": [
    "# Finding the compensation that separates the Top 20% most welll paid from the Bottom 80%\n",
    "top20flag = personal_data.yearly_compensation_numerical.quantile(0.8)\n",
    "top20flag"
   ]
  },
  {
   "cell_type": "code",
   "execution_count": null,
   "metadata": {
    "_kg_hide-input": true,
    "_kg_hide-output": true,
    "_uuid": "4ce7c90131248de35125a13d548b8eeb33d55dd8"
   },
   "outputs": [],
   "source": [
    "# Creating a flag to identify who belongs to the Top 20%\n",
    "personal_data['top20'] = personal_data.yearly_compensation_numerical > top20flag\n",
    "\n",
    "# creating data for future mapping of values\n",
    "top20 = personal_data.groupby('yearly_compensation', as_index=False)['top20'].min()"
   ]
  },
  {
   "cell_type": "code",
   "execution_count": null,
   "metadata": {
    "_kg_hide-input": true,
    "_kg_hide-output": true,
    "_uuid": "eb4e55f89756410284871491145d68ac17140d5a"
   },
   "outputs": [],
   "source": [
    "# Some helper functions to make our plots cleaner with Plotly\n",
    "from plotly.offline import init_notebook_mode, iplot\n",
    "import plotly.graph_objs as go\n",
    "from plotly import tools\n",
    "init_notebook_mode(connected=True)\n",
    "\n",
    "\n",
    "def gen_xaxis(title):\n",
    "    \"\"\"\n",
    "    Creates the X Axis layout and title\n",
    "    \"\"\"\n",
    "    xaxis = dict(\n",
    "            title=title,\n",
    "            titlefont=dict(\n",
    "                color='#AAAAAA'\n",
    "            ),\n",
    "            showgrid=False,\n",
    "            color='#AAAAAA',\n",
    "            )\n",
    "    return xaxis\n",
    "\n",
    "\n",
    "def gen_yaxis(title):\n",
    "    \"\"\"\n",
    "    Creates the Y Axis layout and title\n",
    "    \"\"\"\n",
    "    yaxis=dict(\n",
    "            title=title,\n",
    "            titlefont=dict(\n",
    "                color='#AAAAAA'\n",
    "            ),\n",
    "            showgrid=False,\n",
    "            color='#AAAAAA',\n",
    "            )\n",
    "    return yaxis\n",
    "\n",
    "\n",
    "def gen_layout(charttitle, xtitle, ytitle, lmarg, h, annotations=None):  \n",
    "    \"\"\"\n",
    "    Creates whole layout, with both axis, annotations, size and margin\n",
    "    \"\"\"\n",
    "    return go.Layout(title=charttitle, \n",
    "                     height=h, \n",
    "                     width=800,\n",
    "                     showlegend=False,\n",
    "                     xaxis=gen_xaxis(xtitle), \n",
    "                     yaxis=gen_yaxis(ytitle),\n",
    "                     annotations = annotations,\n",
    "                     margin=dict(l=lmarg),\n",
    "                    )\n",
    "\n",
    "\n",
    "def gen_bars(data, color, orient):\n",
    "    \"\"\"\n",
    "    Generates the bars for plotting, with their color and orient\n",
    "    \"\"\"\n",
    "    bars = []\n",
    "    for label, label_df in data.groupby(color):\n",
    "        if orient == 'h':\n",
    "            label_df = label_df.sort_values(by='x', ascending=True)\n",
    "        if label == 'a':\n",
    "            label = 'lightgray'\n",
    "        bars.append(go.Bar(x=label_df.x,\n",
    "                           y=label_df.y,\n",
    "                           name=label,\n",
    "                           marker={'color': label},\n",
    "                           orientation = orient\n",
    "                          )\n",
    "                   )\n",
    "    return bars\n",
    "\n",
    "\n",
    "def gen_annotations(annot):\n",
    "    \"\"\"\n",
    "    Generates annotations to insert in the chart\n",
    "    \"\"\"\n",
    "    if annot is None:\n",
    "        return []\n",
    "    \n",
    "    annotations = []\n",
    "    # Adding labels\n",
    "    for d in annot:\n",
    "        annotations.append(dict(xref='paper', x=d['x'], y=d['y'],\n",
    "                           xanchor='left', yanchor='bottom',\n",
    "                           text= d['text'],\n",
    "                           font=dict(size=13,\n",
    "                           color=d['color']),\n",
    "                           showarrow=False))\n",
    "    return annotations\n",
    "\n",
    "\n",
    "def generate_barplot(text, annot_dict, orient='v', lmarg=120, h=400):\n",
    "    \"\"\"\n",
    "    Generate the barplot with all data, using previous helper functions\n",
    "    \"\"\"\n",
    "    layout = gen_layout(text[0], text[1], text[2], lmarg, h, gen_annotations(annot_dict))\n",
    "    fig = go.Figure(data=gen_bars(barplot, 'color', orient=orient), layout=layout)\n",
    "    return iplot(fig)"
   ]
  },
  {
   "cell_type": "code",
   "execution_count": null,
   "metadata": {
    "_kg_hide-input": true,
    "_uuid": "e8a3c57630f124a0b802f2ac455cadca88706ed8"
   },
   "outputs": [],
   "source": [
    "# Counting the quantity of respondents per compensation\n",
    "barplot = personal_data.yearly_compensation.value_counts(sort=False).to_frame().reset_index()\n",
    "barplot.columns = ['yearly_compensation', 'qty']\n",
    "\n",
    "# mapping back to get top 20% label\n",
    "barplot = barplot.merge(top20, on='yearly_compensation')\n",
    "barplot.columns = ['x', 'y', 'top20']\n",
    "\n",
    "# apply color for top 20% and bottom 80%\n",
    "barplot['color'] = barplot.top20.apply(lambda x: 'mediumaquamarine' if x else 'lightgray') \n",
    "\n",
    "# Create title and annotations\n",
    "title_text = ['<b>How Much Does Kagglers Get Paid?</b>', 'Yearly Compensation (USD)', 'Quantity of Respondents']\n",
    "annotations = [{'x': 0.06, 'y': 2200, 'text': '80% of respondents earn up to USD 90k','color': 'gray'},\n",
    "              {'x': 0.51, 'y': 1100, 'text': '20% of respondents earn more than USD 90k','color': 'mediumaquamarine'}]\n",
    "\n",
    "# call function for plotting\n",
    "generate_barplot(title_text, annotations)"
   ]
  },
  {
   "cell_type": "code",
   "execution_count": null,
   "metadata": {
    "_kg_hide-input": true,
    "_kg_hide-output": false,
    "_uuid": "83d077c1ad8b535e6d49942b47a577b47420e132"
   },
   "outputs": [],
   "source": [
    "# creating masks to identify students and not students\n",
    "is_student_mask = (personal_data['role'] == 'Student') | (personal_data['employer_industry'] == 'I am a student')\n",
    "not_student_mask = (personal_data['role'] != 'Student') & (personal_data['employer_industry'] != 'I am a student')\n",
    "\n",
    "# Counting the quantity of respondents per compensation (where is student)\n",
    "barplot = personal_data[is_student_mask].yearly_compensation.value_counts(sort=False).to_frame().reset_index()\n",
    "barplot.columns = ['yearly_compensation', 'qty']\n",
    "\n",
    "# mapping back to get top 20%\n",
    "barplot.columns = ['x', 'y',]\n",
    "barplot['highlight'] = barplot.x != '0-10,000'\n",
    "\n",
    "# applying color\n",
    "barplot['color'] = barplot.highlight.apply(lambda x: 'lightgray' if x else 'crimson')\n",
    "\n",
    "# title and annotations\n",
    "title_text = ['<b>Do Students Get Paid at All?</b><br><i>only students</i>', 'Yearly Compensation (USD)', 'Quantity of Respondents']\n",
    "annotations = [{'x': 0.06, 'y': 1650, 'text': '75% of students earn up to USD 10k','color': 'crimson'}]\n",
    "\n",
    "# ploting\n",
    "generate_barplot(title_text, annotations)"
   ]
  },
  {
   "cell_type": "markdown",
   "metadata": {
    "_uuid": "1b817a8b9d50f715d5df09966001554f181ae0a2"
   },
   "source": [
    "--- \n",
    "# What If We Remove Students From Our Data?\n",
    "We have seen that students aren't usually remunerated: 76% of them earn up to USD 10k. Because they have very low compensation (and aren't actually working), they are probably biasing the data towards lower compensation. That is why we are removing them from the rest of EDA."
   ]
  },
  {
   "cell_type": "code",
   "execution_count": null,
   "metadata": {
    "_kg_hide-input": false,
    "_uuid": "45160cf280ca10576cf0d6c8fd572dfc882ee6a0"
   },
   "outputs": [],
   "source": [
    "# Finding the compensation that separates the Top 20% most welll paid from the Bottom 80% (without students)\n",
    "top20flag_no_students = personal_data[not_student_mask].yearly_compensation_numerical.quantile(0.8)\n",
    "top20flag_no_students"
   ]
  },
  {
   "cell_type": "code",
   "execution_count": null,
   "metadata": {
    "_kg_hide-input": true,
    "_uuid": "4d87836d999c9102abdd6015b9544081263a244c"
   },
   "outputs": [],
   "source": [
    "# Creating a flag for Top 20% when there are no students in the dataset\n",
    "personal_data['top20_no_students'] = personal_data.yearly_compensation_numerical > top20flag_no_students\n",
    "\n",
    "# creating data for future mapping of values\n",
    "top20 = personal_data[not_student_mask].groupby('yearly_compensation', as_index=False)['top20_no_students'].min()\n",
    "\n",
    "# Counting the quantity of respondents per compensation (where is not student)\n",
    "barplot = personal_data[not_student_mask].yearly_compensation.value_counts(sort=False).to_frame().reset_index()\n",
    "barplot.columns = ['yearly_compensation', 'qty']\n",
    "\n",
    "# mapping back to get top 20%\n",
    "barplot = barplot.merge(top20, on='yearly_compensation')\n",
    "barplot.columns = ['x', 'y', 'top20']\n",
    "barplot['color'] = barplot.top20.apply(lambda x: 'mediumaquamarine' if x else 'lightgray')\n",
    "\n",
    "title_text = ['<b>How Much Does Kagglers Get Paid?</b><br><i>without students</i>', 'Yearly Compensation (USD)', 'Quantity of Respondents']\n",
    "annotations = [{'x': 0.06, 'y': 1600, 'text': '80% of earn up to USD 100k','color': 'gray'},\n",
    "              {'x': 0.56, 'y': 800, 'text': '20% of earn more than USD 100k','color': 'mediumaquamarine'}]\n",
    "\n",
    "generate_barplot(title_text, annotations)"
   ]
  },
  {
   "cell_type": "markdown",
   "metadata": {
    "_uuid": "42476d0a060a72601de29ef4307b70a187128fc9"
   },
   "source": [
    "### Are there any gender difference between the top 20% most well paid?\n",
    "Unfortunatelly we still have differences in payment due to gender. This gets very noticeable when we compare the top 20% most well paid men and women."
   ]
  },
  {
   "cell_type": "code",
   "execution_count": null,
   "metadata": {
    "_kg_hide-input": true,
    "_kg_hide-output": true,
    "_uuid": "ba7bdd8e0d36708694d92aa05c4c0d0b852e4b90"
   },
   "outputs": [],
   "source": [
    "# Creating a helper function to generate lineplot\n",
    "def gen_lines(data, colorby):\n",
    "    \"\"\"\n",
    "    Generate the lineplot with data\n",
    "    \"\"\"\n",
    "    if colorby == 'top20': \n",
    "        colors = {False: 'lightgray',\n",
    "                  True: 'mediumaquamarine'}\n",
    "    else:\n",
    "        colors = {False: 'lightgray',\n",
    "                  True: 'deepskyblue'}\n",
    "\n",
    "    traces = []\n",
    "    for label, label_df in data.groupby(colorby):\n",
    "        traces.append(go.Scatter(\n",
    "                    x=label_df.x,\n",
    "                    y=label_df.y,\n",
    "                    mode='lines+markers+text',\n",
    "                    line={'color': colors[label], 'width':2},\n",
    "                    connectgaps=True,\n",
    "                    text=label_df.y.round(),\n",
    "                    hoverinfo='none',\n",
    "                    textposition='top center',\n",
    "                    textfont=dict(size=12, color=colors[label]),\n",
    "                    marker={'color': colors[label], 'size':8},\n",
    "                   )\n",
    "                   )\n",
    "    return traces"
   ]
  },
  {
   "cell_type": "code",
   "execution_count": null,
   "metadata": {
    "_kg_hide-input": true,
    "_uuid": "b275e656a441ab8f5c73fb75d2491643bf279b85"
   },
   "outputs": [],
   "source": [
    "# Grouping data to get compensation per gender of Top20% and Bottom 80%\n",
    "barplot = personal_data[not_student_mask].groupby(['gender', 'top20_no_students'], as_index=False)['yearly_compensation_numerical'].mean()\n",
    "barplot = barplot[(barplot['gender'] == 'Female') | (barplot['gender'] == 'Male')]\n",
    "barplot.columns = ['x', 'gender', 'y']\n",
    "\n",
    "# Creates annotations\n",
    "annot_dict = [{'x': 0.05, 'y': 180, 'text': 'The top 20% men are almost 12% better paid than the top 20% woman','color': 'deepskyblue'},\n",
    "              {'x': 0.05, 'y': 60, 'text': 'At the bottom 80% there is almost no difference in payment','color': 'gray'}]\n",
    "\n",
    "# Creates layout\n",
    "layout = gen_layout('<b>What is the gender difference in compensation at the top 20%?</b><br><i>without students</i>', \n",
    "                    'Gender', \n",
    "                    'Average Yearly Compensation (USD)',\n",
    "                    120, \n",
    "                    400,\n",
    "                    gen_annotations(annot_dict)\n",
    "                    )\n",
    "# Make plot\n",
    "fig = go.Figure(data=gen_lines(barplot, 'gender'), \n",
    "                layout=layout)\n",
    "iplot(fig, filename='color-bar')"
   ]
  },
  {
   "cell_type": "markdown",
   "metadata": {
    "_uuid": "c37256ea834789bf2a8db3691df94dd73ae46b1f"
   },
   "source": [
    "### Should you get formal education?\n",
    "To earn more in this field you have either to go all the way up the formal education and get a Doctoral Degree, or you just don't get any formal education at all. It obviously doesn't mean that you should quit college, but that you are problable better off studying by yourself than attending a post-gratuation program."
   ]
  },
  {
   "cell_type": "code",
   "execution_count": null,
   "metadata": {
    "_kg_hide-input": true,
    "_uuid": "4f44884750eab14730676cd85e7f75fbe09ba726"
   },
   "outputs": [],
   "source": [
    "# Calculates compensation per education level\n",
    "barplot = personal_data[not_student_mask].groupby(['education_level'], as_index=False)['yearly_compensation_numerical'].mean()\n",
    "barplot['no_college'] = (barplot.education_level == 'No formal education past high school') | \\\n",
    "                        (barplot.education_level == 'Doctoral degree')\n",
    "\n",
    "# creates a line break for better visualisation\n",
    "barplot.education_level = barplot.education_level.str.replace('study without', 'study <br> without')\n",
    "\n",
    "barplot.columns = ['y', 'x', 'no_college']\n",
    "barplot = barplot.sort_values(by='x', ascending=True)\n",
    "barplot['color'] = barplot.no_college.apply(lambda x: 'coral' if x else 'a')\n",
    "\n",
    "# Add title and annotations\n",
    "title_text = ['<b>Impact of Formal Education on Compenstaion</b><br><i>without students</i>', 'Average Yearly Compensation (USD)', 'Level of Education']\n",
    "annotations = []\n",
    "\n",
    "generate_barplot(title_text, annotations, orient='h', lmarg=300)"
   ]
  },
  {
   "cell_type": "markdown",
   "metadata": {
    "_uuid": "7c2985d1cb480e9d0f2ee50829ac421ff7904991"
   },
   "source": [
    "### Which industry should you target?\n",
    "If you concentrate your efforts on some industry specific problems you'll eventually get hired by them. Bellow we show the top 5 industries, and their average yearly compensation, compared to all others sectors. Choose wisely!"
   ]
  },
  {
   "cell_type": "code",
   "execution_count": null,
   "metadata": {
    "_kg_hide-input": true,
    "_uuid": "7b233028a4effc68debfddc249c7da4226eaa180"
   },
   "outputs": [],
   "source": [
    "# Calculates compensation per industry\n",
    "barplot = personal_data[not_student_mask].groupby(['employer_industry'], as_index=False)['yearly_compensation_numerical'].mean()\n",
    "\n",
    "# Flags the top 5 industries to add color\n",
    "barplot['best_industries'] = (barplot.employer_industry == 'Medical/Pharmaceutical') | \\\n",
    "                             (barplot.employer_industry == 'Insurance/Risk Assessment') | \\\n",
    "                             (barplot.employer_industry == 'Military/Security/Defense') | \\\n",
    "                             (barplot.employer_industry == 'Hospitality/Entertainment/Sports') | \\\n",
    "                             (barplot.employer_industry == 'Accounting/Finance')\n",
    "\n",
    "barplot.columns = ['y', 'x', 'best_industries']\n",
    "barplot = barplot.sort_values(by='x', ascending=True)\n",
    "barplot['color'] = barplot.best_industries.apply(lambda x: 'darkgoldenrod' if x else 'a')\n",
    "\n",
    "title_text = ['<b>Average Compensation per Industry | Top 5 in Color</b><br><i>without students</i>', 'Average Yearly Compensation (USD)', 'Industry']\n",
    "annotations = []\n",
    "\n",
    "generate_barplot(title_text, annotations, orient='h', lmarg=300, h=600)"
   ]
  },
  {
   "cell_type": "markdown",
   "metadata": {
    "_uuid": "cac639ce4ac2b477a7ad29d1cc5d6b0ef517f103"
   },
   "source": [
    "### Should You Aim at the C-level?\n",
    "It's obvious that a C-level compensation is much higher than an analyst's. But how much? Almost 3x. Also, managerial levels have better compensation. Makes sense, no?"
   ]
  },
  {
   "cell_type": "code",
   "execution_count": null,
   "metadata": {
    "_kg_hide-input": true,
    "_uuid": "f463b453be7a77acd97ab4ffc3356e8abcbfdecf"
   },
   "outputs": [],
   "source": [
    "# Calculates compensation per role\n",
    "barplot = personal_data[not_student_mask].groupby(['role'], as_index=False)['yearly_compensation_numerical'].mean()\n",
    "\n",
    "# Flags the top 5 roles to add color\n",
    "barplot['role_highlight'] = (barplot.role == 'Data Scientist') | \\\n",
    "                        (barplot.role == 'Product/Project Manager') | \\\n",
    "                        (barplot.role == 'Consultant') | \\\n",
    "                        (barplot.role == 'Data Journalist') | \\\n",
    "                        (barplot.role == 'Manager') | \\\n",
    "                        (barplot.role == 'Principal Investigator') | \\\n",
    "                        (barplot.role == 'Chief Officer')\n",
    "\n",
    "barplot.columns = ['y', 'x', 'role_highlight']\n",
    "barplot = barplot.sort_values(by='x', ascending=True)\n",
    "barplot['color'] = barplot.role_highlight.apply(lambda x: 'mediumvioletred' if x else 'lightgray')\n",
    "\n",
    "title_text = ['<b>Average Compensation per Role | Top 7 in Color</b><br><i>without students</i>', 'Average Yearly Compensation (USD)', 'Job Title']\n",
    "annotations = [{'x': 0.6, 'y': 11.5, 'text': 'The first step into the ladder<br>of better compensation is<br>becoming a Data Scientist','color': 'mediumvioletred'}]\n",
    "\n",
    "generate_barplot(title_text, annotations, orient='h', lmarg=300, h=600)"
   ]
  },
  {
   "cell_type": "markdown",
   "metadata": {
    "_kg_hide-input": false,
    "_uuid": "f0fc64d311e409826f80769b20fb51e332740ec0"
   },
   "source": [
    "### Which countries pay more?\n",
    "Does living on certain contries impact the average compensation you get? Below we show how much, on average, you should expect to earn in each country."
   ]
  },
  {
   "cell_type": "code",
   "execution_count": null,
   "metadata": {
    "_kg_hide-input": true,
    "_uuid": "aaa6ec885f7a7d5aaa3efe859d9954ff6dfcd966"
   },
   "outputs": [],
   "source": [
    "# Replacing long country names\n",
    "personal_data.country = personal_data.country.str.replace('United Kingdom of Great Britain and Northern Ireland', 'United Kingdom')\n",
    "personal_data.country = personal_data.country.str.replace('United States of America', 'United States')\n",
    "personal_data.country = personal_data.country.str.replace('I do not wish to disclose my location', 'Not Disclosed')\n",
    "personal_data.country = personal_data.country.str.replace('Iran, Islamic Republic of...', 'Iran')\n",
    "personal_data.country = personal_data.country.str.replace('Hong Kong \\(S.A.R.\\)', 'Hong Kong')\n",
    "personal_data.country = personal_data.country.str.replace('Viet Nam', 'Vietnam')\n",
    "personal_data.country = personal_data.country.str.replace('Republic of Korea', 'South Korea')\n",
    "\n",
    "# Calculates compensation per country\n",
    "barplot = personal_data[not_student_mask].groupby(['country'], as_index=False)['yearly_compensation_numerical'].mean()\n",
    "\n",
    "# Flags the top 10 countries to add color\n",
    "barplot['country_highlight'] = (barplot.country == 'United States') | \\\n",
    "                               (barplot.country == 'Switzerland') | \\\n",
    "                               (barplot.country == 'Australia') | \\\n",
    "                               (barplot.country == 'Israel') | \\\n",
    "                               (barplot.country == 'Denmark') | \\\n",
    "                               (barplot.country == 'Canada') | \\\n",
    "                               (barplot.country == 'Hong Kong') | \\\n",
    "                               (barplot.country == 'Norway') | \\\n",
    "                               (barplot.country == 'Ireland') | \\\n",
    "                               (barplot.country == 'United Kingdom')\n",
    "\n",
    "barplot.columns = ['y', 'x', 'country_highlight']\n",
    "barplot = barplot.sort_values(by='x', ascending=True)\n",
    "barplot['color'] = barplot.country_highlight.apply(lambda x: 'mediumseagreen' if x else 'lightgray')\n",
    "\n",
    "title_text = ['<b>Average Compensation per Country - Top 10 in Color</b><br><i>without students</i>', 'Average Yearly Compensation (USD)', 'Country']\n",
    "annotations = []\n",
    "\n",
    "generate_barplot(title_text, annotations, orient='h', lmarg=300, h=1200)"
   ]
  },
  {
   "cell_type": "markdown",
   "metadata": {
    "_uuid": "0b6ec7d7b1813924a4f6471eb71ccfa23441e10d"
   },
   "source": [
    "We see that countries that have a higher cost of living are showing up at the top, paying more. Let's try to divide the average compensation by the cost of living to normalize this feature? We found a ranking of cost of living per country at [Expatistan.com](https://www.expatistan.com/cost-of-living/country/ranking) on Nov. 15th 2018. This source also provide a price index for each country, that is calculated as described below: \n",
    "\n",
    "> To calculate each country's Price Index value, we start by assigning a value of 100 to a central reference country (that happens to be the Czech Republic). Once the reference point has been established, the Price Index value of every other country in the database is calculated by comparing their cost of living to the cost of living in the Czech Republic.\n",
    "Therefore, if a country has a Price Index of 134, that means that living there is 34% more expensive than living in the Czech Republic. Source: [Expatistan.com](https://www.expatistan.com/cost-of-living/country/ranking)"
   ]
  },
  {
   "cell_type": "code",
   "execution_count": null,
   "metadata": {
    "_kg_hide-input": true,
    "_uuid": "d49c1f95007f08e69d5ba8aa4c5a2ea81da4c08a"
   },
   "outputs": [],
   "source": [
    "# Loading the cost of living\n",
    "cost_living = pd.read_csv('../input/cost-of-living-per-country/cost_of_living.csv')\n",
    "cost_living.columns = ['ranking', 'country', 'price_index']\n",
    "cost_living.head()"
   ]
  },
  {
   "cell_type": "code",
   "execution_count": null,
   "metadata": {
    "_kg_hide-input": true,
    "_kg_hide-output": true,
    "_uuid": "ce30573a4c2f49c7a84d90bf0c2ee4e4fb7846c2"
   },
   "outputs": [],
   "source": [
    "# joining both tables\n",
    "personal_data = personal_data.merge(cost_living, on='country') # doing an inner join to avoid nans on normalized compensation\n",
    "\n",
    "# calculating the normalized compensation\n",
    "personal_data['normalized_compensation'] = personal_data.yearly_compensation_numerical / personal_data.price_index * 10\n",
    "personal_data['normalized_compensation'] = personal_data['normalized_compensation'].round() * 10"
   ]
  },
  {
   "cell_type": "code",
   "execution_count": null,
   "metadata": {
    "_kg_hide-input": true,
    "_kg_hide-output": true,
    "_uuid": "96cbd3bdfc5fe23e50794b015cf86f8e23e445d0"
   },
   "outputs": [],
   "source": [
    "# recreating masks\n",
    "is_student_mask = (personal_data['role'] == 'Student') | (personal_data['employer_industry'] == 'I am a student')\n",
    "not_student_mask = (personal_data['role'] != 'Student') & (personal_data['employer_industry'] != 'I am a student')"
   ]
  },
  {
   "cell_type": "code",
   "execution_count": null,
   "metadata": {
    "_kg_hide-input": true,
    "_uuid": "4a4291b760f12ee285015bcd8247f19da80ae191"
   },
   "outputs": [],
   "source": [
    "# Calculates compensation per country\n",
    "barplot = personal_data[not_student_mask].groupby(['country'], as_index=False)['normalized_compensation'].mean()\n",
    "\n",
    "# Flags the top 10 countries to add color\n",
    "barplot['country_highlight'] = (barplot.country == 'United States') | \\\n",
    "                               (barplot.country == 'Australia') | \\\n",
    "                               (barplot.country == 'Israel') | \\\n",
    "                               (barplot.country == 'Switzerland') | \\\n",
    "                               (barplot.country == 'Canada') | \\\n",
    "                               (barplot.country == 'Tunisia') | \\\n",
    "                               (barplot.country == 'Germany') | \\\n",
    "                               (barplot.country == 'Denmark') | \\\n",
    "                               (barplot.country == 'Colombia') | \\\n",
    "                               (barplot.country == 'South Korea')\n",
    "\n",
    "barplot.columns = ['y', 'x', 'country_highlight']\n",
    "barplot = barplot.sort_values(by='x', ascending=True)\n",
    "barplot['color'] = barplot.country_highlight.apply(lambda x: 'mediumseagreen' if x else 'lightgray')\n",
    "\n",
    "title_text = ['<b>Normalized Average Compensation per Country - Top 10 in Color</b><br><i>without students</i>', \n",
    "              'Normalized Average Yearly Compensation (USD)', 'Country']\n",
    "annotations = []\n",
    "\n",
    "generate_barplot(title_text, annotations, orient='h', lmarg=300, h=1200)"
   ]
  },
  {
   "cell_type": "markdown",
   "metadata": {
    "_uuid": "fe30076afb489d320687d64d6348eb88829b40c3"
   },
   "source": [
    "We see that compensation is much smoother when we divide it by the cost of living. By livinng in most countries around the world, you should get almost the same compensation on average (between USD 30k and 40k per year). A few countries pay above the average (United States pays better than any other country), and other few countries pay below the average. \n",
    "\n",
    "## Top 20% by considering each country cost of living\n",
    "Let's define the top 20% again, now based on the normalized compensation to see it in a chart. "
   ]
  },
  {
   "cell_type": "code",
   "execution_count": null,
   "metadata": {
    "_kg_hide-input": true,
    "_uuid": "4246abdf54220e323ec36875ef6b7c8a0a289c28"
   },
   "outputs": [],
   "source": [
    "# Defining the threshold for top 20% most paid\n",
    "top20_tresh = personal_data.normalized_compensation.quantile(0.8)\n",
    "personal_data['top20'] = personal_data.normalized_compensation > top20_tresh\n",
    "\n",
    "# creating data for future mapping of values\n",
    "top20 = personal_data.groupby('normalized_compensation', as_index=False)['top20'].min()\n",
    "\n",
    "# Calculates respondents per compensation\n",
    "barplot = personal_data.normalized_compensation.value_counts(sort=False).to_frame().reset_index()\n",
    "barplot.columns = ['normalized_compensation', 'qty']\n",
    "\n",
    "# mapping back to get top 20% and 50%\n",
    "barplot = barplot.merge(top20, on='normalized_compensation')\n",
    "barplot.columns = ['x', 'y', 'top20']\n",
    "barplot['color'] = barplot.top20.apply(lambda x: 'mediumaquamarine' if x else 'lightgray')\n",
    "\n",
    "title_text = ['<b>How Much Does Kagglers Get Paid?<br></b><i>normalized by cost of living</i>', 'Normalized Yearly Compensation', 'Quantity of Respondents']\n",
    "annotations = [{'x': 0.1, 'y': 1000, 'text': '20% Most well paid','color': 'mediumaquamarine'}]\n",
    "\n",
    "generate_barplot(title_text, annotations)"
   ]
  },
  {
   "cell_type": "markdown",
   "metadata": {
    "_uuid": "82c45080490a94dbbb991574ba9f0b3da1fe1adb"
   },
   "source": [
    "# Predicting if a Kaggler Earns More than USD 100k (Top 20% - without students)\n",
    "After doing this initial EDA, we see that there are a ton of different features to explore one by one (there were 50 question on the survey). So we propose creating a model to show wich features makes a Kaggler be in the top 20%. After that we may look at them more carefully and draw some conclusions."
   ]
  },
  {
   "cell_type": "markdown",
   "metadata": {
    "_uuid": "2152df1eb86e0d4d7178d6bd51f931b941f34ae0"
   },
   "source": [
    "## Advanced Data Cleaning\n",
    "The data is really, really messy... We are going to clean it and transform all questions in dummies.  For the purpose of modelling, we are just selecting some questions that we believe might explain higher salaries. All other questions were left here, but were not treated, so you can use this kernel for other purposes."
   ]
  },
  {
   "cell_type": "code",
   "execution_count": null,
   "metadata": {
    "_kg_hide-input": true,
    "_kg_hide-output": true,
    "_uuid": "76f8d81b40d06e063cf3a633165fa0f30e817bf3"
   },
   "outputs": [],
   "source": [
    "# First we store all answers in a dict\n",
    "answers = {'Q1': mcA.iloc[:,1],\n",
    "           'Q2': mcA.iloc[:,3],\n",
    "           'Q3': mcA.iloc[:,4],\n",
    "           'Q4': mcA.iloc[:,5],\n",
    "           'Q5': mcA.iloc[:,6],\n",
    "           'Q6': mcA.iloc[:,7],\n",
    "           'Q7': mcA.iloc[:,9],\n",
    "           'Q8': mcA.iloc[:,11],\n",
    "           'Q9': mcA.iloc[:,12],\n",
    "           'Q10': mcA.iloc[:,13],\n",
    "           'Q11': mcA.iloc[:,14:21],\n",
    "           'Q12': mcA.iloc[:,22],\n",
    "           'Q13': mcA.iloc[:,29:44],\n",
    "           'Q14': mcA.iloc[:,45:56],\n",
    "           'Q15': mcA.iloc[:,57:64],\n",
    "           'Q16': mcA.iloc[:,65:83],\n",
    "           'Q17': mcA.iloc[:,84],\n",
    "           'Q18': mcA.iloc[:,86],\n",
    "           'Q19': mcA.iloc[:,88:107],\n",
    "           'Q20': mcA.iloc[:,108],\n",
    "           'Q21': mcA.iloc[:,110:123],\n",
    "           'Q22': mcA.iloc[:,124],\n",
    "           'Q23': mcA.iloc[:,126],\n",
    "           'Q24': mcA.iloc[:,127],\n",
    "           'Q25': mcA.iloc[:,128],\n",
    "           'Q26': mcA.iloc[:,129],\n",
    "           'Q27': mcA.iloc[:,130:150],\n",
    "           'Q28': mcA.iloc[:,151:194],\n",
    "           'Q29': mcA.iloc[:,195:223],\n",
    "           'Q30': mcA.iloc[:,224:249],\n",
    "           'Q31': mcA.iloc[:,250:262],\n",
    "           'Q32': mcA.iloc[:,263],\n",
    "           'Q33': mcA.iloc[:,265:276],\n",
    "           'Q34': mcA.iloc[:, 277:283],\n",
    "           'Q35': mcA.iloc[:, 284:290],\n",
    "           'Q36': mcA.iloc[:,291:304],\n",
    "           'Q37': mcA.iloc[:,305],\n",
    "           'Q38': mcA.iloc[:,307:329],\n",
    "           'Q39': mcA.iloc[:,330:332],\n",
    "           'Q40': mcA.iloc[:,332],\n",
    "           'Q41': mcA.iloc[:,333:336],\n",
    "           'Q42': mcA.iloc[:,336:341],\n",
    "           'Q43': mcA.iloc[:,342],\n",
    "           'Q44': mcA.iloc[:,343:348],\n",
    "           'Q45': mcA.iloc[:,349:355],\n",
    "           'Q46': mcA.iloc[:,355],\n",
    "           'Q47': mcA.iloc[:,356:371],\n",
    "           'Q48': mcA.iloc[:,372],\n",
    "           'Q49': mcA.iloc[:,373:385],\n",
    "           'Q50': mcA.iloc[:,386:394]}"
   ]
  },
  {
   "cell_type": "code",
   "execution_count": null,
   "metadata": {
    "_kg_hide-input": true,
    "_kg_hide-output": true,
    "_uuid": "6e02a784e500962e267dfc41ee8490aa6664dfb7"
   },
   "outputs": [],
   "source": [
    "# Then we store all questions in another dict\n",
    "questions = {\n",
    "'Q1': 'What is your gender?',\n",
    "'Q2': 'What is your age (# years)?',\n",
    "'Q3': 'In which country do you currently reside?',\n",
    "'Q4': 'What is the highest level of formal education that you have attained or plan to attain within the next 2 years?',\n",
    "'Q5': 'Which best describes your undergraduate major?',\n",
    "'Q6': 'Select the title most similar to your current role (or most recent title if retired)',\n",
    "'Q7': 'In what industry is your current employer/contract (or your most recent employer if retired)?',\n",
    "'Q8': 'How many years of experience do you have in your current role?',\n",
    "'Q9': 'What is your current yearly compensation (approximate $USD)?',\n",
    "'Q10': 'Does your current employer incorporate machine learning methods into their business?',\n",
    "'Q11': 'Select any activities that make up an important part of your role at work',\n",
    "'Q12': 'What is the primary tool that you use at work or school to analyze data?',\n",
    "'Q13': 'Which of the following integrated development environments (IDEs) have you used at work or school in the last 5 years?',\n",
    "'Q14': 'Which of the following hosted notebooks have you used at work or school in the last 5 years?',\n",
    "'Q15': 'Which of the following cloud computing services have you used at work or school in the last 5 years?',\n",
    "'Q16': 'What programming languages do you use on a regular basis?',\n",
    "'Q17': 'What specific programming language do you use most often?',\n",
    "'Q18': 'What programming language would you recommend an aspiring data scientist to learn first?',\n",
    "'Q19': 'What machine learning frameworks have you used in the past 5 years?',\n",
    "'Q20': 'Of the choices that you selected in the previous question, which ML library have you used the most?',\n",
    "'Q21': 'What data visualization libraries or tools have you used in the past 5 years?',\n",
    "'Q22': 'Of the choices that you selected in the previous question, which specific data visualization library or tool have you used the most?',\n",
    "'Q23': 'Approximately what percent of your time at work or school is spent actively coding?',\n",
    "'Q24': 'How long have you been writing code to analyze data?',\n",
    "'Q25': 'For how many years have you used machine learning methods (at work or in school)?',\n",
    "'Q26': 'Do you consider yourself to be a data scientist?',\n",
    "'Q27': 'Which of the following cloud computing products have you used at work or school in the last 5 years?',\n",
    "'Q28': 'Which of the following machine learning products have you used at work or school in the last 5 years?',\n",
    "'Q29': 'Which of the following relational database products have you used at work or school in the last 5 years?',\n",
    "'Q30': 'Which of the following big data and analytics products have you used at work or school in the last 5 years?',\n",
    "'Q31': 'Which types of data do you currently interact with most often at work or school?',\n",
    "'Q32': 'What is the type of data that you currently interact with most often at work or school? ',\n",
    "'Q33': 'Where do you find public datasets?',\n",
    "'Q34': 'During a typical data science project at work or school, approximately what proportion of your time is devoted to the following?',\n",
    "'Q35': 'What percentage of your current machine learning/data science training falls under each category?',\n",
    "'Q36': 'On which online platforms have you begun or completed data science courses?',\n",
    "'Q37': 'On which online platform have you spent the most amount of time?',\n",
    "'Q38': 'Who/what are your favorite media sources that report on data science topics?',\n",
    "'Q39': 'How do you perceive the quality of online learning platforms and in-person bootcamps as compared to the quality of the education provided by traditional brick and mortar institutions?',\n",
    "'Q40': 'Which better demonstrates expertise in data science: academic achievements or independent projects? ',\n",
    "'Q41': 'How do you perceive the importance of the following topics?',\n",
    "'Q42': 'What metrics do you or your organization use to determine whether or not your models were successful?',\n",
    "'Q43': 'Approximately what percent of your data projects involved exploring unfair bias in the dataset and/or algorithm?',\n",
    "'Q44': 'What do you find most difficult about ensuring that your algorithms are fair and unbiased? ',\n",
    "'Q45': 'In what circumstances would you explore model insights and interpret your models predictions?',\n",
    "'Q46': 'Approximately what percent of your data projects involve exploring model insights?',\n",
    "'Q47': 'What methods do you prefer for explaining and/or interpreting decisions that are made by ML models?',\n",
    "'Q48': 'Do you consider ML models to be \"black boxes\" with outputs that are difficult or impossible to explain?',\n",
    "'Q49': 'What tools and methods do you use to make your work easy to reproduce?',\n",
    "'Q50': 'What barriers prevent you from making your work even easier to reuse and reproduce?',\n",
    "'top7_job_title': 'Select the title most similar to your current role (or most recent title if retired)',\n",
    "'job_title_student': 'Select the title most similar to your current role (or most recent title if retired)',\n",
    "'top10_country': 'In which country do you currently reside?',\n",
    "'age': 'What is your age (# years)?',\n",
    "'gender-Male': 'What is your gender?',\n",
    "'top2_education_level': 'What is the highest level of formal education that you have attained or plan to attain within the next 2 years?',\n",
    "'top5_industries': 'In what industry is your current employer/contract (or your most recent employer if retired)?',\n",
    "'industry_student': 'In what industry is your current employer/contract (or your most recent employer if retired)?',\n",
    "'years_experience': 'How many years of experience do you have in your current role?'}"
   ]
  },
  {
   "cell_type": "markdown",
   "metadata": {
    "_uuid": "4d018105aff8ae232fd5d1532fd96980041a1e13"
   },
   "source": [
    "## The selected questions are:\n",
    "* Q1. What is your gender?\n",
    "* Q2. What is your age (# years)?\n",
    "* Q3. In which country do you currently reside?\n",
    "* Q4. What is the highest level of formal education that you have attained or plan to attain within the next 2 years?\n",
    "* Q6. Select the title most similar to your current role (or most recent title if retired)\n",
    "* Q7. In what industry is your current employer/contract (or your most recent employer if retired)?\n",
    "* Q8. How many years of experience do you have in your current role?\n",
    "* Q10. Does your current employer incorporate machine learning methods into their business?\n",
    "* Q11. Select any activities that make up an important part of your role at work\n",
    "* Q15. Which of the following cloud computing services have you used at work or school in the last 5 years?\n",
    "* Q16. What programming languages do you use on a regular basis?\n",
    "* Q17. What specific programming language do you use most often?\n",
    "* Q18. What programming language would you recommend an aspiring data scientist to learn first?\n",
    "* Q19. What machine learning frameworks have you used in the past 5 years?\n",
    "* Q21 What data visualization libraries or tools have you used in the past 5 years?\n",
    "* Q23. Approximately what percent of your time at work or school is spent actively coding?\n",
    "* Q24. How long have you been writing code to analyze data?\n",
    "* Q26. Do you consider yourself to be a data scientist?\n",
    "* Q29. Which of the following relational database products have you used at work or school in the last 5 years?\n",
    "* Q30. Which of the following big data and analytics products have you used at work or school in the last 5 years?\n",
    "* Q31. Which types of data do you currently interact with most often at work or school?\n",
    "* Q36. On which online platforms have you begun or completed data science courses?\n",
    "* Q38. Who/what are your favorite media sources that report on data science topics?\n",
    "* Q40. Which better demonstrates expertise in data science: academic achievements or independent projects? \n",
    "* Q42. What metrics do you or your organization use to determine whether or not your models were successful?\n",
    "* Q47. What methods do you prefer for explaining and/or interpreting decisions that are made by ML models?\n",
    "* Q48. Do you consider ML models to be \"black boxes\" with outputs that are difficult or impossible to explain?\n",
    "* Q49. What tools and methods do you use to make your work easy to reproduce?"
   ]
  },
  {
   "cell_type": "markdown",
   "metadata": {
    "_kg_hide-input": true,
    "_uuid": "9c40cf946d59f1116a84cb7c2a08a6f8548f77b4"
   },
   "source": [
    "## Reducing Answers Dimensions\n",
    "Some answers have multiple choices, to avoid overfitting we will drop all answers that had less than 5% of respondents. I'm doing this because we could have some answers with just a few respondents biasing the model towards the Top20%. One example below:\n",
    "\n",
    "1. On average we expect each answer to have around 80% of the respondents from the Bottom 80% and the rest from the Top 20%. \n",
    "2. Let's say we get an answer that has only 10 respondents, and 4 of them are in the Top 20%. This makes this answer very strong towards the top 20%.\n",
    "3. Our model will probably consider this feature very important (because the odds of belonging to the Top 20% is much greater to who ansered that question, odds are 40% in fact).\n",
    "4. But... A question with only 10 respondents is not representative of the whole population, so our model will be overfitted.\n",
    "5. Dropping answers that have less than 5% of respondents will avoid this kind of overfitting, because we know that each answer represents at least 5% of our population. \n",
    "6. It's better to have a slightly underfitted than a overfitted model.\n",
    "\n",
    "*Why 5%? Because it's round and because I want it to be 5%. Could be 10%, 15%, 20%... Try it out and see how the results change.*"
   ]
  },
  {
   "cell_type": "code",
   "execution_count": null,
   "metadata": {
    "_kg_hide-input": true,
    "_uuid": "cd90760ac5fe0a6d95372a74deecd92e2340c082"
   },
   "outputs": [],
   "source": [
    "def normalize_labels(full_label):\n",
    "    \"\"\"\n",
    "    treat labels for new column names\n",
    "    \"\"\"\n",
    "    try:\n",
    "        label = full_label.split('<>')[1] # split and get second item\n",
    "    except IndexError:\n",
    "        label = full_label.split('<>')[0] # split and get first item\n",
    "\n",
    "    return label\n",
    "\n",
    "def treat_data(data, idx, tresh):\n",
    "    \"\"\"\n",
    "    Clean and get dumies for columns\n",
    "    \"\"\" \n",
    "    # get dummies with a distinct separator\n",
    "    result = pd.get_dummies(data, prefix_sep='<>', drop_first=False)\n",
    "    # gets and normalize dummies names\n",
    "    cols = [normalize_labels(str(x)) for x in result.columns]\n",
    "    \n",
    "    # build columns labels with questions\n",
    "    try:\n",
    "        Qtext = mcQ['Q{}'.format(idx)]\n",
    "    except KeyError:\n",
    "        try:\n",
    "            Qtext = mcQ['Q{}_Part_1'.format(idx)]\n",
    "        except KeyError:\n",
    "            Qtext = mcQ['Q{}_MULTIPLE_CHOICE'.format(idx)]\n",
    "            \n",
    "    # Build new columns names\n",
    "    prefix = 'Q{}-'.format(idx)\n",
    "    result.columns = [prefix + x for x in cols]\n",
    "    \n",
    "    # dropping columns that had less than 10% of answers to avoid overfitting\n",
    "    percent_answer = result.sum() / result.shape[0]\n",
    "    for row in percent_answer.iteritems():\n",
    "        if row[1] < tresh:\n",
    "            result = result.drop(row[0], axis=1)\n",
    "        \n",
    "    return result"
   ]
  },
  {
   "cell_type": "code",
   "execution_count": null,
   "metadata": {
    "_kg_hide-input": true,
    "_uuid": "a917e8a2ea57f52af8ecf7116390171f5dbee227"
   },
   "outputs": [],
   "source": [
    "# selecting the questions\n",
    "selected_questions = [1, 2, 3, 4, 6, 7, 8, 10, 11, 15, 16, 17, 18, 19, 21, 23, 24, 25, 26, 29, 31, 36, 38, 40, 42, 47, 48, 49]\n",
    "treated_data = {}\n",
    "\n",
    "# Formatting all answers from the selected questions, dropping answers with less than 5%\n",
    "for sq in selected_questions:\n",
    "    treated_data['Q{}'.format(sq)] = treat_data(answers['Q{}'.format(sq)], sq, 0.05)   \n",
    "# Done! Now we are able to rebuild a much cleaner dataset!\n",
    "\n",
    "# Define target variable\n",
    "compensation = mcA.Q9.str.replace(',', '').str.replace('500000\\+', '500-500000').str.split('-')\n",
    "mcA['yearly_compensation_numerical'] = compensation.apply(lambda x: (int(x[0]) * 1000 + int(x[1]))/ 2) / 1000 # it is calculated in thousand dollars\n",
    "clean_dataset = (mcA.yearly_compensation_numerical > 100).reset_index().astype(int)\n",
    "clean_dataset.columns = ['index', 'top20']\n",
    "\n",
    "# Join with treated questions\n",
    "for key, value in treated_data.items():\n",
    "    value = value.reset_index(drop=True)\n",
    "    clean_dataset = clean_dataset.join(value, how='left')\n",
    "\n",
    "clean_dataset = clean_dataset.drop('index', axis=1)\n",
    "\n",
    "# saving back to csv so others may use it\n",
    "clean_dataset.to_csv('clean_dataset.csv')\n",
    "\n",
    "clean_dataset.head()"
   ]
  },
  {
   "cell_type": "code",
   "execution_count": null,
   "metadata": {
    "_kg_hide-input": true,
    "_uuid": "aef1dce35974cd26f1c8581dba2eeccefae133f8"
   },
   "outputs": [],
   "source": [
    "shape = clean_dataset.shape\n",
    "print('Our cleaned dataset has {} records and {} features'.format(shape[0], shape[1]))"
   ]
  },
  {
   "cell_type": "markdown",
   "metadata": {
    "_uuid": "055550cf47419999bfefda00dd5e1b49322f18b9"
   },
   "source": [
    "##  Finding Correlation Between Features\n",
    "Let's identify all features that have correlation higher than ```abs(±0.5)``` and drop them from the dataset. "
   ]
  },
  {
   "cell_type": "code",
   "execution_count": null,
   "metadata": {
    "_kg_hide-input": true,
    "_uuid": "8a56a18f899f9ae8b64c1fa4d7d776c9d185fe6b"
   },
   "outputs": [],
   "source": [
    "# Create correlation matrix\n",
    "correl = clean_dataset.corr().abs()\n",
    "\n",
    "# Select upper triangle of correlation matrix\n",
    "upper = correl.where(np.triu(np.ones(correl.shape), k=1).astype(np.bool))\n",
    "\n",
    "# Find index of feature columns with correlation greater than 0.5\n",
    "to_drop = [column for column in upper.columns if any(upper[column] > 0.5)]\n",
    "\n",
    "# Drop features \n",
    "clean_dataset_dropped = clean_dataset.drop(to_drop, axis=1)\n",
    "\n",
    "shape = clean_dataset_dropped.shape\n",
    "print('After dropping highly correlated features, our has {} records and {} features'.format(shape[0], shape[1]))\n",
    "print('Dropped features: ', to_drop)"
   ]
  },
  {
   "cell_type": "markdown",
   "metadata": {
    "_uuid": "0dcd016667f75ebe98bf540db077ee908d1fb284"
   },
   "source": [
    "## Dealing With Missing Data\n",
    "As result of dataset cleaning we are left with no questions with NaNs."
   ]
  },
  {
   "cell_type": "code",
   "execution_count": null,
   "metadata": {
    "_kg_hide-input": true,
    "_uuid": "c5aba49d1fcb22af4a7e3e6f10fb9731728f96d9"
   },
   "outputs": [],
   "source": [
    "# Finding NANs\n",
    "df = clean_dataset_dropped.isnull().sum().to_frame()\n",
    "print('We found {} NaNs on the dataset after treatment'.format(df[df[0] > 0].shape[0]))"
   ]
  },
  {
   "cell_type": "markdown",
   "metadata": {
    "_uuid": "11ac6c8d67bac714c15dc8c7b751257bb1404426"
   },
   "source": [
    "## Spliting Into Train and Test Data"
   ]
  },
  {
   "cell_type": "code",
   "execution_count": null,
   "metadata": {
    "_kg_hide-input": true,
    "_uuid": "b10b0bbc0ab40910f19e16eb9613496068c4e712"
   },
   "outputs": [],
   "source": [
    "from sklearn.model_selection import train_test_split\n",
    "\n",
    "train, test = train_test_split(clean_dataset_dropped, test_size=0.2, random_state=42)\n",
    "print('Train Shape:', train.shape)\n",
    "print('Test Shape:', test.shape)"
   ]
  },
  {
   "cell_type": "markdown",
   "metadata": {
    "_uuid": "9770b0fd1cc95659924c0a80827e9ca81cfc4edb"
   },
   "source": [
    "## Fitting the Model\n",
    "We want to draw some conclusions on the data, so let's try a Random Forest and a Logistic Regression."
   ]
  },
  {
   "cell_type": "code",
   "execution_count": null,
   "metadata": {
    "_kg_hide-input": true,
    "_uuid": "a77bc8449f25261ee52bcd6ab0d13aee909cef53"
   },
   "outputs": [],
   "source": [
    "# Separating X,y train and test sets\n",
    "ytrain = train['top20'].copy()\n",
    "Xtrain = train.drop(['top20'], axis=1).copy() # removing both target variables from features\n",
    "\n",
    "ytest = test['top20'].copy()\n",
    "Xtest = test.drop(['top20'], axis=1).copy() # removing both target variables from features"
   ]
  },
  {
   "cell_type": "code",
   "execution_count": null,
   "metadata": {
    "_kg_hide-input": true,
    "_kg_hide-output": true,
    "_uuid": "04a0990d887d89b6c063c87562238569b474fc9a"
   },
   "outputs": [],
   "source": [
    "# Helper function to help evaluating the model\n",
    "from sklearn.metrics import roc_auc_score\n",
    "from sklearn.metrics import accuracy_score\n",
    "from sklearn.metrics import confusion_matrix\n",
    "\n",
    "def display_scores(predictor, X, y):\n",
    "    \"\"\"\n",
    "    Calculates metrics and display it\n",
    "    \"\"\"\n",
    "    print('\\n### -- ### -- ' + str(type(predictor)).split('.')[-1][:-2] + ' -- ### -- ###')\n",
    "    # Getting the predicted values\n",
    "    ypred = predictor.predict(X)\n",
    "    ypred_score = predictor.predict_proba(X)\n",
    "    \n",
    "    # calculating metrics\n",
    "    accuracy = accuracy_score(y, ypred)\n",
    "    roc = roc_auc_score(y, pd.DataFrame(ypred_score)[1])\n",
    "    confusion = confusion_matrix(y, ypred)\n",
    "    \n",
    "    print('Confusion Matrix: ', confusion)\n",
    "    print('Accuracy: ', accuracy)\n",
    "    print('AUC: ', roc)\n",
    "    \n",
    "    type1_error = confusion[0][1] / confusion[0].sum() # False Positive - model predicted in top 20%, while it wasn't\n",
    "    type2_error = confusion[1][0] / confusion[1].sum() # False Negative - model predicted out of top 20%, while it was\n",
    "    \n",
    "    print('Type 1 error: ', type1_error)\n",
    "    print('Type 2 error: ', type2_error)"
   ]
  },
  {
   "cell_type": "code",
   "execution_count": null,
   "metadata": {
    "_kg_hide-input": true,
    "_uuid": "66d32994bbfefc5ddaf9ff0a4be2277af0358da5"
   },
   "outputs": [],
   "source": [
    "from sklearn.ensemble import RandomForestClassifier\n",
    "from sklearn.linear_model import LogisticRegression\n",
    "\n",
    "rforest = RandomForestClassifier(n_estimators=100, random_state=42)\n",
    "lreg = LogisticRegression(solver='liblinear', random_state=42)\n",
    "\n",
    "# Fit the models\n",
    "rforest.fit(Xtrain, ytrain)\n",
    "lreg.fit(Xtrain, ytrain)\n",
    "\n",
    "# Check some metrics\n",
    "display_scores(rforest, Xtrain, ytrain)\n",
    "display_scores(lreg, Xtrain, ytrain)"
   ]
  },
  {
   "cell_type": "markdown",
   "metadata": {
    "_uuid": "1b50a31a46a3248dbf2add561bf3778e6968f2fb"
   },
   "source": [
    "A Random Forest model with 100% accuracy and AUC is definetly overfitted. Probably due to imbalanced classes. LogReg has better results, but still might be overfitted.\n",
    "\n",
    "After a 5-fold cross validation, we see that the real accuracy is around 88% for Random Forest and 90% for Logistic Regression."
   ]
  },
  {
   "cell_type": "code",
   "execution_count": null,
   "metadata": {
    "_kg_hide-input": true,
    "_uuid": "f83d6bf58f36931a465c8994d0576993bcc93032"
   },
   "outputs": [],
   "source": [
    "from sklearn.model_selection import cross_val_score\n",
    "\n",
    "def do_cv(predictor, X, y, cv):\n",
    "    \"\"\"\n",
    "    Executes cross validation and display scores\n",
    "    \"\"\"\n",
    "    print('### -- ### -- ' + str(type(predictor)).split('.')[-1][:-2] + ' -- ### -- ###')\n",
    "    cv_score = cross_val_score(predictor, X, y, scoring='roc_auc', cv=5)\n",
    "    print ('Mean AUC score after a 5-fold cross validation: ', cv_score.mean())\n",
    "    print ('AUC score of each fold: ', cv_score)\n",
    "    \n",
    "do_cv(rforest, Xtrain, ytrain, 5)\n",
    "print('\\n ----------------------------- \\n')\n",
    "do_cv(lreg, Xtrain, ytrain, 5)"
   ]
  },
  {
   "cell_type": "markdown",
   "metadata": {
    "_uuid": "0fc29ac1a3011503f8b42e4434c6f248d22b7a7a"
   },
   "source": [
    "## Undersampling \n",
    "The classes are imbalanced and it's impacting our model. We defined the ```top20``` target variable in a way that we have about 80% of our sample at class 0, and 20% at class 1. Let's fix that."
   ]
  },
  {
   "cell_type": "code",
   "execution_count": null,
   "metadata": {
    "_kg_hide-input": true,
    "_uuid": "80bcc9c61d13d53c7cac2e99a0db4d2c39bbd0af"
   },
   "outputs": [],
   "source": [
    "from collections import Counter\n",
    "from imblearn.under_sampling import RandomUnderSampler\n",
    "\n",
    "print('Quantity of samples on each class BEFORE undersampling: ', sorted(Counter(ytrain).items()))\n",
    "rus = RandomUnderSampler(random_state=42)\n",
    "X_resampled, y_resampled = rus.fit_resample(Xtrain, ytrain)\n",
    "print('Quantity of samples on each class AFTER undersampling: ', sorted(Counter(y_resampled).items()))"
   ]
  },
  {
   "cell_type": "markdown",
   "metadata": {
    "_uuid": "a1db5285b3ca219fb93e3cf017b91c98586e42b5"
   },
   "source": [
    "Doing the crossvalidation again, we see that the mean AUC Score stays in 88% for Random Forest and 90% for the Logistic Regression model, but we had differences in the confusion matrices and reduction of type 2 error for LogReg. We are selecting Logistic Regression to continue this study because we had better score and can draw more conclusions from the model coeficients. "
   ]
  },
  {
   "cell_type": "code",
   "execution_count": null,
   "metadata": {
    "_kg_hide-input": true,
    "_uuid": "785f9df5dc568281e417a363ffb089c70daa53be"
   },
   "outputs": [],
   "source": [
    "# refit the model\n",
    "rforest.fit(X_resampled, y_resampled)\n",
    "lreg.fit(X_resampled, y_resampled)\n",
    "\n",
    "# do Cross Validation\n",
    "do_cv(rforest, Xtrain, ytrain, 5)\n",
    "display_scores(rforest, Xtrain, ytrain)\n",
    "print('\\n ----------------------------- \\n')\n",
    "do_cv(lreg, Xtrain, ytrain, 5)\n",
    "display_scores(lreg, Xtrain, ytrain)"
   ]
  },
  {
   "cell_type": "markdown",
   "metadata": {
    "_uuid": "de5c33bd1a86c64017d319774bdac2994b0463b1"
   },
   "source": [
    "## Validating the Model on the Test Data\n",
    "Now we finally test the model on the test dataset! We see that the Accuracy is around 81% and AUC is now 89%. It is a quite good prediction model."
   ]
  },
  {
   "cell_type": "code",
   "execution_count": null,
   "metadata": {
    "_kg_hide-input": true,
    "_uuid": "41b10d105a2263d5cb21db0ea94c00b48b5a0398"
   },
   "outputs": [],
   "source": [
    "display_scores(lreg, Xtest, ytest)"
   ]
  },
  {
   "cell_type": "markdown",
   "metadata": {
    "_uuid": "2b3dc238aab066c7e96b6689de23d1094aee4d49"
   },
   "source": [
    "Let's see how scores for both Top20% and Bottom 80% are distributed in test data?"
   ]
  },
  {
   "cell_type": "code",
   "execution_count": null,
   "metadata": {
    "_kg_hide-input": true,
    "_uuid": "4381542f33f1f653e553ae5d2987759dd1c6512d"
   },
   "outputs": [],
   "source": [
    "# calculating scores\n",
    "scores = pd.DataFrame(lreg.predict_proba(Xtest)).iloc[:,1]\n",
    "scores = pd.DataFrame([scores.values, ytest.values]).transpose()\n",
    "scores.columns = ['score', 'top20']\n",
    "\n",
    "# Add histogram data\n",
    "x0 = scores[scores['top20'] == 0]['score']\n",
    "x1 = scores[scores['top20'] == 1]['score']\n",
    "\n",
    "bottom80 = go.Histogram(\n",
    "    x=x0,\n",
    "    opacity=0.5,\n",
    "    marker={'color': 'lightgray'},\n",
    "    name='Bottom 80%'\n",
    "\n",
    ")\n",
    "top20 = go.Histogram(\n",
    "    x=x1,\n",
    "    opacity=0.5,\n",
    "    marker={'color': 'mediumaquamarine'},\n",
    "    name='Top 20%'   \n",
    ")\n",
    "\n",
    "annot_dict = [{'x': 0.2, 'y': 180, 'text': 'The 80% less paid tend<br>to have lower scores','color': 'gray'},\n",
    "              {'x': 0.75, 'y': 95, 'text': 'Top 20% tend to have<br>higher scores','color': 'mediumaquamarine'}]\n",
    "\n",
    "layout = gen_layout('<b>Distribution of Scores From the Top 20% and Bottom 80%</b><br><i>test data</i>', \n",
    "                    'Probability Score',\n",
    "                    'Quantity of Respondents',\n",
    "                    annotations=gen_annotations(annot_dict),\n",
    "                    lmarg=150, h=400\n",
    "                    )\n",
    "layout['barmode'] = 'overlay'\n",
    "\n",
    "data = [bottom80, top20]\n",
    "layout = go.Layout(layout)\n",
    "fig = go.Figure(data=data, layout=layout)\n",
    "\n",
    "iplot(fig)"
   ]
  },
  {
   "cell_type": "markdown",
   "metadata": {
    "_uuid": "d35bb0b1d54b9fb6d2d54b870ade8a8045d5fd79"
   },
   "source": [
    "We see on the above chart that the two classes are very well defined, and distinct from each other. This is confirmed when we plot the ROC curve.\n",
    "\n",
    "> In a Receiver Operating Characteristic (ROC) curve the true positive rate (Sensitivity) is plotted in function of the false positive rate (100-Specificity) for different cut-off points. Each point on the ROC curve represents a sensitivity/specificity pair corresponding to a particular decision threshold. A test with perfect discrimination (no overlap in the two distributions) has a ROC curve that passes through the upper left corner (100% sensitivity, 100% specificity). Therefore the closer the ROC curve is to the upper left corner, the higher the overall accuracy of the test (Zweig & Campbell, 1993)."
   ]
  },
  {
   "cell_type": "code",
   "execution_count": null,
   "metadata": {
    "_kg_hide-input": true,
    "_uuid": "627d017fb48a687d8cbdc978727c97beb01ae5a5"
   },
   "outputs": [],
   "source": [
    "from sklearn.metrics import roc_curve\n",
    "\n",
    "yscore = pd.DataFrame(lreg.predict_proba(Xtest)).iloc[:,1]\n",
    "fpr, tpr, _ = roc_curve(ytest, yscore)\n",
    "\n",
    "trace1 = go.Scatter(x=fpr, y=tpr, \n",
    "                    mode='lines', \n",
    "                    line=dict(color='mediumaquamarine', width=3),\n",
    "                    name='ROC curve'\n",
    "                   )\n",
    "\n",
    "trace2 = go.Scatter(x=[0, 1], y=[0, 1], \n",
    "                    mode='lines', \n",
    "                    line=dict(color='lightgray', width=1, dash='dash'),\n",
    "                    showlegend=False)\n",
    "\n",
    "layout = gen_layout('<b>Receiver Operating Characteristic Curve</b><br><i>test data</i>', \n",
    "                    'False Positive Rate',\n",
    "                    'True Positive Rate',\n",
    "                    lmarg=50, h=600\n",
    "                    )\n",
    "\n",
    "\n",
    "fig = go.Figure(data=[trace1, trace2], layout=layout)\n",
    "\n",
    "iplot(fig)"
   ]
  },
  {
   "cell_type": "markdown",
   "metadata": {
    "_uuid": "91c1c07f9e71470a82dce9d41a1979f3c28e8516"
   },
   "source": [
    "## Probability of Being in the Top 20% per Score\n",
    "Now let's calculate the probability of belonging to the Top 20% given a certain score. To do that we will create score ranges. We calculate the probability based on how the model performed on test data. Below we show the probability for each bin."
   ]
  },
  {
   "cell_type": "code",
   "execution_count": null,
   "metadata": {
    "_kg_hide-input": true,
    "_uuid": "571e5ff36fe35bf8f6337762a0e5fc9211b99a10"
   },
   "outputs": [],
   "source": [
    "def calc_proba(model):\n",
    "    # calculating scores for the test data\n",
    "    scores = pd.DataFrame(model.predict_proba(Xtest)).iloc[:,1]\n",
    "    scores = pd.DataFrame([scores.values, ytest.values]).transpose()\n",
    "    scores.columns = ['score', 'top20']\n",
    "\n",
    "    # create 10 evenly spaced bins\n",
    "    scores['bin'] = pd.cut(scores.score, [-0.01, 0.05, 0.1, 0.2, 0.4, 0.5, 0.6, 0.7, 0.8, 0.9, 0.95, 0.975, 1])\n",
    "\n",
    "    # count number of individuals in Top20% and Bottom80% per bin\n",
    "    prob = scores.groupby(['bin', 'top20'], as_index=False)['score'].count()\n",
    "    prob = pd.pivot_table(prob, values='score', index=['bin'], columns=['top20'])\n",
    "\n",
    "    # calculates the probability\n",
    "    prob['probability'] = prob[1.0] / (prob[0.0] + prob[1.0])\n",
    "    return prob['probability']\n",
    "\n",
    "# Calculates the probabilities of belonging to Top20% per range of score based on test data\n",
    "calc_proba(lreg).to_frame()"
   ]
  },
  {
   "cell_type": "markdown",
   "metadata": {
    "_uuid": "1f972b87b07504804cb9658af79e906880498772"
   },
   "source": [
    "# 124 Ways to Increase Your Earnings\n",
    "Our model had a total of 124 features. From their coefficients we may draw some ideas that might help you find your pile of money. Let's first look where the intercept is:"
   ]
  },
  {
   "cell_type": "code",
   "execution_count": null,
   "metadata": {
    "_kg_hide-input": true,
    "_uuid": "b670fa3f8760f2ff66d8239eb2b0ca3341c4fdbe"
   },
   "outputs": [],
   "source": [
    "print('Our model\\'s intercept is:', lreg.intercept_[0])"
   ]
  },
  {
   "cell_type": "markdown",
   "metadata": {
    "_uuid": "8a92f5533e2b33b9c0454bf84e301685148e9eeb"
   },
   "source": [
    "This means that everyone starts with 0.913. Then you may add or subtract points from your it, depending of the answers you give to each question.\n",
    "\n",
    "* **Positive Coefficients:** If the coefficient is positive, means that a positive answer increases the chances of belonging to the Top 20%. \n",
    "* **Negative Coefficients:**  If the coefficient is negative, then a positive answer decreases the probability of belonging to the Top 20%.\n",
    "\n",
    "**Takeaway:** Have an attitude towards positiveness. Don't do negative stuff. =D"
   ]
  },
  {
   "cell_type": "code",
   "execution_count": null,
   "metadata": {
    "_kg_hide-input": true,
    "_kg_hide-output": true,
    "_uuid": "b2ad784d6e33fa2a28f3b76a8d8b816d466b78fe"
   },
   "outputs": [],
   "source": [
    "# treating the questions just to display better names\n",
    "features = pd.DataFrame([Xtrain.columns, lreg.coef_[0]]).transpose()\n",
    "features.columns = ['feature', 'coefficient']\n",
    "features['abs_coefficient'] = features['coefficient'].abs()\n",
    "features['question_number'] = features.feature.str.split('-').str[0]\n",
    "features['answer'] = features.feature.str[3:]\n",
    "features['answer'] = features.answer.apply(lambda x: x[1:] if x[0] == '-' else x)\n",
    "\n",
    "features['question'] = features['question_number'].map(questions)\n",
    "\n",
    "\n",
    "answers_dict = {'age': 'continuous feature',\n",
    "                'top10_country': 'live at one of the top 10 countries',\n",
    "                'top7_job_title': 'has one of the top 7 job titles',\n",
    "               }\n",
    "\n",
    "features['question'] = features['question_number'].map(questions)\n",
    "features = features[['question_number', 'question', 'answer', 'coefficient', 'abs_coefficient']]"
   ]
  },
  {
   "cell_type": "code",
   "execution_count": null,
   "metadata": {
    "_kg_hide-input": true,
    "_kg_hide-output": true,
    "_uuid": "502de9d9e4dacac8ee29aae6f6d7e1fc84e95dee"
   },
   "outputs": [],
   "source": [
    "# Helper functions for building clean plots\n",
    "def gen_yaxis(title):\n",
    "    \"\"\"\n",
    "    Create y axis\n",
    "    \"\"\"\n",
    "    yaxis=dict(\n",
    "            title=title,\n",
    "            titlefont=dict(\n",
    "                color='#AAAAAA'\n",
    "            ),\n",
    "            showgrid=False,\n",
    "            color='#AAAAAA',\n",
    "            tickfont=dict(\n",
    "            size=12,\n",
    "            color='#444444'\n",
    "        ),\n",
    "            )\n",
    "    return yaxis\n",
    "\n",
    "\n",
    "def gen_layout(charttitle, xtitle, ytitle, annotations=None, lmarg=120, h=400):  \n",
    "    \"\"\"\n",
    "    Create layout\n",
    "    \"\"\"\n",
    "    return go.Layout(title=charttitle, \n",
    "                     height=h, \n",
    "                     width=800,\n",
    "                     showlegend=False,\n",
    "                     xaxis=gen_xaxis(xtitle), \n",
    "                     yaxis=gen_yaxis(ytitle),\n",
    "                     annotations = annotations,\n",
    "                     margin=dict(l=lmarg),\n",
    "                    )\n",
    "\n",
    "def split_string(string, lenght):\n",
    "    \"\"\"\n",
    "    Split a string adding a line break at each \"lenght\" words\n",
    "    \"\"\"\n",
    "    result = ''\n",
    "    idx = 1\n",
    "    for word in string.split(' '):\n",
    "        if idx % lenght == 0:\n",
    "            result = result + '<br>' + ''.join(word)\n",
    "        else:    \n",
    "            result = result + ' ' + ''.join(word)\n",
    "        idx += 1\n",
    "    return result\n",
    "\n",
    "def gen_bars_result(data, color, orient):\n",
    "    \"\"\"\n",
    "    Create bars\n",
    "    \"\"\"\n",
    "    bars = []\n",
    "    for label, label_df in data.groupby(color):\n",
    "        if orient == 'h':\n",
    "            label_df = label_df.sort_values(by='x', ascending=True)\n",
    "        if label == 'a':\n",
    "            label = 'lightgray'\n",
    "        bars.append(go.Bar(x=label_df.x,\n",
    "                           y=label_df.y,\n",
    "                           name=label,\n",
    "                           marker={'color': label},\n",
    "                           orientation = orient,\n",
    "                           text=label_df.x.astype(float).round(3),\n",
    "                           hoverinfo='none',\n",
    "                           textposition='auto',\n",
    "                           textfont=dict(size=12, color= '#444444')\n",
    "                          )\n",
    "                   )\n",
    "    return bars\n",
    "\n",
    "def plot_result (qnumber):\n",
    "    \"\"\"\n",
    "    Plot coefficients for a given question number\n",
    "    \"\"\"\n",
    "    data = features[features.question_number == qnumber]\n",
    "    title = qnumber + '. ' + data.question.values[0]\n",
    "    title = split_string(title, 8)\n",
    "    barplot = data[['answer', 'coefficient']].copy()\n",
    "    barplot.answer = barplot.answer.apply(lambda x: split_string(x, 5))\n",
    "    barplot.columns = ['y', 'x']\n",
    "    bartplot = barplot.sort_values(by='x', ascending=False)\n",
    "    barplot['model_highlight'] = barplot.x > 0\n",
    "    barplot['color'] = barplot.model_highlight.apply(lambda x: 'cornflowerblue' if x else 'a')\n",
    "\n",
    "    layout = gen_layout('<b>{}</b>'.format(title), \n",
    "                        'Model Coefficient', \n",
    "                        '',\n",
    "                        lmarg=300,\n",
    "                        h= 600)\n",
    "\n",
    "    fig = go.Figure(data=gen_bars_result(barplot, 'color', orient='h'), \n",
    "                    layout=layout)\n",
    "    iplot(fig, filename='color-bar')"
   ]
  },
  {
   "cell_type": "code",
   "execution_count": null,
   "metadata": {
    "_kg_hide-input": true,
    "_uuid": "de555a6bad9769a61fece7c46b2352893aecc1ca"
   },
   "outputs": [],
   "source": [
    "plot_result('Q1')"
   ]
  },
  {
   "cell_type": "markdown",
   "metadata": {
    "_uuid": "f5fe6b8493f015c7a2cfa37d160bb693fc26cf30"
   },
   "source": [
    "When it comes to gender, being female decreases your chances of earning more. We have already seen that in the EDA, and it'as confirmed by the model we built.\n",
    "\n",
    "---"
   ]
  },
  {
   "cell_type": "code",
   "execution_count": null,
   "metadata": {
    "_kg_hide-input": true,
    "_uuid": "904d569fef9fa13fd0f14bec934abed6d4062362"
   },
   "outputs": [],
   "source": [
    "plot_result('Q2')"
   ]
  },
  {
   "cell_type": "markdown",
   "metadata": {
    "_uuid": "475c80258d6b404aa73ae90129b8d89c1aec5f8e"
   },
   "source": [
    "Be patient. Give time to time. Your chances of belonging to the Top 20% most well paid will increase as you get older. Makes sense, no?\n",
    "\n",
    "*Probably there are more people in the 22-24 years range that are just starting their careers in Data Science, that is why we seee an inversion in age.*\n",
    "\n",
    "---"
   ]
  },
  {
   "cell_type": "code",
   "execution_count": null,
   "metadata": {
    "_kg_hide-input": true,
    "_uuid": "8501ef4434328fb7114cec8bcd076ae711d0e950"
   },
   "outputs": [],
   "source": [
    "plot_result('Q3')"
   ]
  },
  {
   "cell_type": "markdown",
   "metadata": {
    "_uuid": "829ad6c558651024aa7f4a19fa843adc528c47a0"
   },
   "source": [
    "If you reside in the United States, your chance of earning more is increased. By living in China or India, you are probably earning less.\n",
    "\n",
    "---"
   ]
  },
  {
   "cell_type": "code",
   "execution_count": null,
   "metadata": {
    "_kg_hide-input": true,
    "_uuid": "59fba22ab4263315d78981c1f8c472b295adf027"
   },
   "outputs": [],
   "source": [
    "plot_result('Q4')"
   ]
  },
  {
   "cell_type": "markdown",
   "metadata": {
    "_uuid": "3b570316909dc935d90d2341db1ca5dfbea11122"
   },
   "source": [
    "If you want to earn more, a good idea is to do a Doctoral Degree. But don't be to strict on this rule, remember from EDA that *\"no college at all\"* also pays well?\n",
    "\n",
    "---"
   ]
  },
  {
   "cell_type": "code",
   "execution_count": null,
   "metadata": {
    "_kg_hide-input": true,
    "_uuid": "69c1595427873e5ba6b27fab5e715262cf0dcaee"
   },
   "outputs": [],
   "source": [
    "plot_result('Q6')"
   ]
  },
  {
   "cell_type": "markdown",
   "metadata": {
    "_uuid": "917ef555e5fcbe4910906e1e0657136d1e64bf5b"
   },
   "source": [
    " Being a student might be a source of frustration and lower salaries. Get out and get a job! Start as a data analyst, then focus on becoming a Data Scientist. But you see that software engineers earn more. \n",
    " \n",
    " Why not be a [Type B data scientist](https://medium.com/@jamesdensmore/there-are-two-types-of-data-scientists-and-two-types-of-problems-to-solve-a149a0148e64) and deploy models into production? To achieve that you have to develop your software engineering skills as well.\n",
    "\n",
    "---"
   ]
  },
  {
   "cell_type": "code",
   "execution_count": null,
   "metadata": {
    "_kg_hide-input": true,
    "_uuid": "b12b91b9e13549797636c67fa69ea0c61f4bd0ac"
   },
   "outputs": [],
   "source": [
    "plot_result('Q7')"
   ]
  },
  {
   "cell_type": "markdown",
   "metadata": {
    "_uuid": "3639ff362a78b630296347b630f0f7075ebb7671"
   },
   "source": [
    "If you want to get rich, run from Academics/Education. In the complete study EDA you'll see that Academics/Education has the lowest average compensation compared to other industries, and this is confirmed by the model's coefficient. I feel bad that one of the most important areas for the future of data science is the one that has the lowest salaries. If you want to earn more, then working at the computers/technology, accounting/finance or other industries might increase your likelihood of belonging to the Top 20% most well paid.\n",
    "\n",
    "---"
   ]
  },
  {
   "cell_type": "code",
   "execution_count": null,
   "metadata": {
    "_kg_hide-input": true,
    "_uuid": "170974a8b9134f03d1c5683cc59758a76bb1de9f"
   },
   "outputs": [],
   "source": [
    "plot_result('Q8')"
   ]
  },
  {
   "cell_type": "markdown",
   "metadata": {
    "_uuid": "3a41987078c44f0782c0e57b9315a008390620e0"
   },
   "source": [
    "Be realistic, you won't be in the Top 20% with just 1 or 2 years of experience.\n",
    "\n",
    "---"
   ]
  },
  {
   "cell_type": "code",
   "execution_count": null,
   "metadata": {
    "_kg_hide-input": true,
    "_uuid": "e529bc74aaa47720472f0e62cd57ae2d9851c29e"
   },
   "outputs": [],
   "source": [
    "plot_result('Q10')"
   ]
  },
  {
   "cell_type": "markdown",
   "metadata": {
    "_uuid": "b0943480b786dcd99d24d9039131f05b70916f8a"
   },
   "source": [
    "Working for a company that has well stablished ML models in production for more than 2 years is the dream for those who want to increase their earnings. Notice that there is a natural order to the levels of ML adoption, those who work for companies that are more experienced in ML tend to have higher compensation.  If your company does not use ML methods at all, then you are in the wrong place. Consider finding a new job.\n",
    "\n",
    "---"
   ]
  },
  {
   "cell_type": "code",
   "execution_count": null,
   "metadata": {
    "_kg_hide-input": true,
    "_uuid": "72912ab26214bbd0d90583ea553bf07bfbc4b866"
   },
   "outputs": [],
   "source": [
    "plot_result('Q11')"
   ]
  },
  {
   "cell_type": "markdown",
   "metadata": {
    "_uuid": "ca8fe816b49b797cd1ad83819a3dafd8e0b6f7c8"
   },
   "source": [
    "When it comes to activities, try to build prototypes or Machine Learning services. Exploring the application of ML to new areas and using it to improve your products or workflows is the way to get closer to earning more than USD 100k per year. On the other side, if an important part of your role is to do Business Intelligence to analyze and understand data to influence product or business decisions, then you should expect to earn less. Same thing if you run the data infrastructure.\n",
    "\n",
    "---"
   ]
  },
  {
   "cell_type": "code",
   "execution_count": null,
   "metadata": {
    "_kg_hide-input": true,
    "_uuid": "260844c6ce9bb6a153a2fede54d3cdc680c43d33"
   },
   "outputs": [],
   "source": [
    "plot_result('Q15')"
   ]
  },
  {
   "cell_type": "markdown",
   "metadata": {
    "_uuid": "3716d6ead6024089f252891f3af0b23a6fb59011"
   },
   "source": [
    "Use cloud computing services! Get used to AWS, or other leading cloud providers. Using IBM Cloud might reduce your chances of earning more, but can't see any reasons for that right now.\n",
    "\n",
    "---"
   ]
  },
  {
   "cell_type": "code",
   "execution_count": null,
   "metadata": {
    "_kg_hide-input": true,
    "_uuid": "2fc434f09b58c33d8c21bc182fd591f69c5f6fae"
   },
   "outputs": [],
   "source": [
    "plot_result('Q16')"
   ]
  },
  {
   "cell_type": "markdown",
   "metadata": {
    "_uuid": "464b1bafa9e7c2479a0bee5c124207d678ba2cfb"
   },
   "source": [
    "Using R, PHP, Java or Bash on a regular basis contribute to earning more. \n",
    "\n",
    "Java is one of the languages that most contributes to the probability of belonging to the Top 20% probably because some Big Data tools, such as Hadoop, are written in Java. Bash, the Unix shell and command language, is also valuable. You see that some of them will increase your salary, while others may decrease it. Choose wisely what to learn next!\n",
    "\n",
    "---"
   ]
  },
  {
   "cell_type": "code",
   "execution_count": null,
   "metadata": {
    "_kg_hide-input": true,
    "_uuid": "8b0ebec6b87b3ebebbcd9c7fc9be8a5358a3d702"
   },
   "outputs": [],
   "source": [
    "plot_result('Q17')"
   ]
  },
  {
   "cell_type": "markdown",
   "metadata": {
    "_uuid": "e177a39afd775955810b7ca072135c127e416210"
   },
   "source": [
    "Primary usage of a language other than Python and R will get you closer to Top 20%. But if you have to chose one between them, then choose Python. Knowing R is a plus, but using it most often than other languages will decrease your compensation. Python wins this one probably because it's more versatile than R when it comes to putting models in production.\n",
    "\n",
    "---"
   ]
  },
  {
   "cell_type": "code",
   "execution_count": null,
   "metadata": {
    "_kg_hide-input": true,
    "_uuid": "a2c329416843db9a90d1fcb8cb5225d65cf38cb8"
   },
   "outputs": [],
   "source": [
    "plot_result('Q18')"
   ]
  },
  {
   "cell_type": "markdown",
   "metadata": {
    "_uuid": "ba4cb51224614c9cfa545c9cf08593c846282df2"
   },
   "source": [
    "Listen to the money's voice. People who earn more recommend learning Python as the first language.\n",
    "\n",
    "---"
   ]
  },
  {
   "cell_type": "code",
   "execution_count": null,
   "metadata": {
    "_kg_hide-input": true,
    "_uuid": "eb3b63f69222de42bd97a7afd7f5331485a3fa25"
   },
   "outputs": [],
   "source": [
    "plot_result('Q19')"
   ]
  },
  {
   "cell_type": "markdown",
   "metadata": {
    "_uuid": "ece1d71724c2b6625e52e0b393f3c69fbb9c7d38"
   },
   "source": [
    "Learning and using Caffe, Fastai, SparkMLlib, Lightgbm and Xgboost and will add value to your resume.\n",
    "\n",
    "---"
   ]
  },
  {
   "cell_type": "code",
   "execution_count": null,
   "metadata": {
    "_kg_hide-input": true,
    "_uuid": "e25b523e656d74f1143acf7a46c6e42ea4834988"
   },
   "outputs": [],
   "source": [
    "plot_result('Q21')"
   ]
  },
  {
   "cell_type": "markdown",
   "metadata": {
    "_uuid": "2aba88d8ffc366ffee098c971ec6609b7afc792f"
   },
   "source": [
    "I personally like and use Plotly, so I'm losing some points here. One reconforting thought is that Plotly is built on top of D3.\n",
    "\n",
    "---"
   ]
  },
  {
   "cell_type": "code",
   "execution_count": null,
   "metadata": {
    "_kg_hide-input": true,
    "_uuid": "66676fdb1d6d6d2cd848109e49732ec47afd3f22"
   },
   "outputs": [],
   "source": [
    "plot_result('Q23')"
   ]
  },
  {
   "cell_type": "markdown",
   "metadata": {
    "_uuid": "ad2bd71649cc9e1c48c1c6e16af5767930c4bfe3"
   },
   "source": [
    "Top 20ies won't spend to much time coding. They are probably involved with strategic decisions, rather than coding.\n",
    "\n",
    "---"
   ]
  },
  {
   "cell_type": "code",
   "execution_count": null,
   "metadata": {
    "_kg_hide-input": true,
    "_uuid": "779dc8519d7d1735603037244c02dfcf268cbccb"
   },
   "outputs": [],
   "source": [
    "plot_result('Q24')"
   ]
  },
  {
   "cell_type": "markdown",
   "metadata": {
    "_uuid": "3823fb0e8fa087d44907e035b15b43ea4040de75"
   },
   "source": [
    "Again, get experienced before asking for a raise.\n",
    "\n",
    "---"
   ]
  },
  {
   "cell_type": "code",
   "execution_count": null,
   "metadata": {
    "_kg_hide-input": true,
    "_uuid": "ad1bf6c56e9516361a55622cfd27a982b65ba06f"
   },
   "outputs": [],
   "source": [
    "plot_result('Q26')"
   ]
  },
  {
   "cell_type": "markdown",
   "metadata": {
    "_uuid": "4fd28583a4523886a0c7f96b808ab750f03daa58"
   },
   "source": [
    "It' water or wine. If you earn tons of dollars have to be pretty sure of what you are. Probably those who do not consider themselves to be Data Scientists are in managerial or C-level positions. Being in doubt is probably associated with junior professionals, who are starting their careers.\n",
    "\n",
    "---"
   ]
  },
  {
   "cell_type": "code",
   "execution_count": null,
   "metadata": {
    "_kg_hide-input": true,
    "_uuid": "6f52ed01ea589b251d6c65bcc8eaf7855251b5fc"
   },
   "outputs": [],
   "source": [
    "plot_result('Q29')"
   ]
  },
  {
   "cell_type": "markdown",
   "metadata": {
    "_uuid": "b6d1e9483fc57cd3810a7813d987ae2d0e779666"
   },
   "source": [
    "Using AWS RDS will greatly increase your skills. Using Microsoft Access or not using any relational database decreasees your probability of earning more. The takeaway is: learn and use relational databases, and if you can choose, go with RDS.\n",
    "\n",
    "---"
   ]
  },
  {
   "cell_type": "code",
   "execution_count": null,
   "metadata": {
    "_kg_hide-input": true,
    "_uuid": "055e9431583e629eed97d0f4ba7f7265eaf864eb"
   },
   "outputs": [],
   "source": [
    "plot_result('Q31')"
   ]
  },
  {
   "cell_type": "markdown",
   "metadata": {
    "_uuid": "3c71f3e87e8aad6947b511f0c4b1395fb6d5b220"
   },
   "source": [
    "Working with Genetic and Video Data will add more value to your resume. If aren't that exotic, then it's good to know that Geospatial and Time Series Data will also boost your carrer! Everyone works with Numerical Data, so learn the basics, then go to more advanced data types if you want to have good news on your pay check.\n",
    "\n",
    "---"
   ]
  },
  {
   "cell_type": "code",
   "execution_count": null,
   "metadata": {
    "_kg_hide-input": true,
    "_uuid": "181787669ccedd08ec5e696a1de14f53f227308d"
   },
   "outputs": [],
   "source": [
    "plot_result('Q36')"
   ]
  },
  {
   "cell_type": "markdown",
   "metadata": {
    "_kg_hide-input": false,
    "_uuid": "5b6fceab219845f18e4bebf5caa4977e094b4d9c"
   },
   "source": [
    "When the subject is belonging to the Top 20%, then doing certified couses at developers.google.com or Online University Courses are probably the most profitable investments. Online courses are probably negatively associated with compensation because most people who are starting in the field are learning at those platforms, we might see a shift here over the next years.\n",
    "\n",
    "---"
   ]
  },
  {
   "cell_type": "code",
   "execution_count": null,
   "metadata": {
    "_kg_hide-input": true,
    "_uuid": "a38224b925cd574facaa251346e00b87b14ca909"
   },
   "outputs": [],
   "source": [
    "plot_result('Q38')"
   ]
  },
  {
   "cell_type": "markdown",
   "metadata": {
    "_uuid": "fd9b1a5c680a36fd944616b6788f8d2307a1ee98"
   },
   "source": [
    "Get informed on Reddit,  FiveThirtyEight.com or O'Reilly Data Newsletter.  Read machine learning scientific papers on ArXiv.\n",
    "\n",
    "---"
   ]
  },
  {
   "cell_type": "code",
   "execution_count": null,
   "metadata": {
    "_kg_hide-input": true,
    "_uuid": "84c98670b02a958098d6c174e2b65d8d52b6554b"
   },
   "outputs": [],
   "source": [
    "plot_result('Q40')"
   ]
  },
  {
   "cell_type": "markdown",
   "metadata": {
    "_uuid": "deae751e59bab9feb44bd7e0b4243841f522676d"
   },
   "source": [
    "The top 20% don't think that independent projects are equally important as academic achievements.\n",
    "\n",
    "---"
   ]
  },
  {
   "cell_type": "code",
   "execution_count": null,
   "metadata": {
    "_kg_hide-input": true,
    "_uuid": "f258811e4105c18c76002a159eba04feb1fd133a"
   },
   "outputs": [],
   "source": [
    "plot_result('Q42')"
   ]
  },
  {
   "cell_type": "markdown",
   "metadata": {
    "_uuid": "72b27835c926cb5462088554e833035672dcba0e"
   },
   "source": [
    "Some of the richiest Kagglers are not involved with an organization that builds ML models. But if you are, set the metrics on revenue and business goals.\n",
    "\n",
    "---"
   ]
  },
  {
   "cell_type": "code",
   "execution_count": null,
   "metadata": {
    "_kg_hide-input": true,
    "_uuid": "c5b49953f7cdb4c64076cd5de4618118da19bdd5"
   },
   "outputs": [],
   "source": [
    "plot_result('Q47')"
   ]
  },
  {
   "cell_type": "markdown",
   "metadata": {
    "_uuid": "ec1259fee63d61db4517359c45414e6d1bde1985"
   },
   "source": [
    "Do you know how to do perturbation importance or sensitivity analysis? If you don't, then it is time to learn. *I hope this article is giving you some hints on examination of model coeficients.*\n",
    "\n",
    "---"
   ]
  },
  {
   "cell_type": "code",
   "execution_count": null,
   "metadata": {
    "_kg_hide-input": true,
    "_uuid": "359e7a2119f87832de7f4469ce9821c564a8071b"
   },
   "outputs": [],
   "source": [
    "plot_result('Q48')"
   ]
  },
  {
   "cell_type": "markdown",
   "metadata": {
    "_uuid": "ebb9fa8bcfd50d86be3df4b87a95e52e1ee78c09"
   },
   "source": [
    "It seems like the Top20iers are so involved with managerial decisions that they consider ML models as black boxes, and delegate the task of explaining outputs to experts.\n",
    "\n",
    "---"
   ]
  },
  {
   "cell_type": "code",
   "execution_count": null,
   "metadata": {
    "_kg_hide-input": true,
    "_uuid": "d8081292692e48e045cab72e3b9e9f71d85aca42"
   },
   "outputs": [],
   "source": [
    "plot_result('Q49')"
   ]
  },
  {
   "cell_type": "markdown",
   "metadata": {
    "_uuid": "b259b9567388b9d3118116a2cb1ec884d27c0df4"
   },
   "source": [
    "Defining random seeds, usage of virtual machines and containers and making sure the code is well documented are all good practices that will probably increase your earnings.\n",
    "\n",
    "---"
   ]
  },
  {
   "cell_type": "markdown",
   "metadata": {
    "_uuid": "dfb3b8298238c76277c2b3e87e8afaa987ebc26a"
   },
   "source": [
    "### By following those ideas, maybe one day we might find ourselves laying down on a pile of money. But unlike Mr. Babineaux, it will be our money. And it will be legal.\n",
    "![](https://media.giphy.com/media/3oKIPm3BynUpUysTHW/giphy.gif)\n"
   ]
  },
  {
   "cell_type": "markdown",
   "metadata": {
    "_uuid": "179a61ecc99e28d17b6e9ac04dff849901f85a01"
   },
   "source": [
    "---\n",
    "# Creating an Online Model to Deploy as a Service at AWS Lambda\n",
    "\n",
    "Next we will create an API that can calculate your score (i.e. your chance of earning more than U$ 100k per year). To do that we are using AWS Lambda and API Gateway. Check out the development below:\n",
    "\n",
    "![Lambda](https://i.imgur.com/pkYNCkm.png)"
   ]
  },
  {
   "cell_type": "markdown",
   "metadata": {
    "_uuid": "9e161c118f84e4232a9651634447f57f73bda7e0"
   },
   "source": [
    "First we will train the model again with fewer questions. We don't want ask to much questions and consequently discourage people to answer the survey."
   ]
  },
  {
   "cell_type": "code",
   "execution_count": null,
   "metadata": {
    "_kg_hide-input": true,
    "_uuid": "34cdb94cee4ea8e0396042a5d871d85b921e880a"
   },
   "outputs": [],
   "source": [
    "### Training the model again with fewer questions\n",
    "# Selecting just the questions we are putting in production\n",
    "selected_questions = [1, 2, 3, 4, 6, 7, 8, 10, 11, 15, 16, 23, 31, 42]\n",
    "treated_data = {}\n",
    "\n",
    "# Let's select answers that had more than 5% of answers\n",
    "for sq in selected_questions:\n",
    "    treated_data['Q{}'.format(sq)] = treat_data(answers['Q{}'.format(sq)], sq, 0.05)\n",
    "    \n",
    "# Done! Now we are able to rebuild a much cleaner dataset!\n",
    "\n",
    "# Define target variable\n",
    "compensation = mcA.Q9.str.replace(',', '').str.replace('500000\\+', '500-500000').str.split('-')\n",
    "mcA['yearly_compensation_numerical'] = compensation.apply(lambda x: (int(x[0]) * 1000 + int(x[1]))/ 2) / 1000 # it is calculated in thousand dollars\n",
    "clean_dataset = (mcA.yearly_compensation_numerical > 100).reset_index().astype(int)\n",
    "clean_dataset.columns = ['index', 'top20']\n",
    "\n",
    "# Join wit treated questions\n",
    "for key, value in treated_data.items():\n",
    "    value = value.reset_index(drop=True)\n",
    "    clean_dataset = clean_dataset.join(value, how='left')\n",
    "\n",
    "clean_dataset = clean_dataset.drop('index', axis=1)\n",
    "# saving back to csv so others may use it\n",
    "clean_dataset.to_csv('production_clean_dataset.csv')"
   ]
  },
  {
   "cell_type": "code",
   "execution_count": null,
   "metadata": {
    "_kg_hide-input": true,
    "_uuid": "94cb289fe60d679c7addf1c7ad1d00d8b971708b"
   },
   "outputs": [],
   "source": [
    "# Create correlation matrix\n",
    "correl = clean_dataset.corr().abs()\n",
    "\n",
    "# Select upper triangle of correlation matrix\n",
    "upper = correl.where(np.triu(np.ones(correl.shape), k=1).astype(np.bool))\n",
    "\n",
    "# Find index of feature columns with correlation greater than 0.5\n",
    "to_drop = [column for column in upper.columns if any(upper[column] > 0.5)]\n",
    "\n",
    "# Drop features \n",
    "clean_dataset_dropped = clean_dataset.drop(to_drop, axis=1)"
   ]
  },
  {
   "cell_type": "code",
   "execution_count": null,
   "metadata": {
    "_kg_hide-input": true,
    "_uuid": "9624946cfc0efb348a9be286e8efdeb86dd18ff3"
   },
   "outputs": [],
   "source": [
    "# splitting train and test data\n",
    "train, test = train_test_split(clean_dataset_dropped, test_size=0.2, random_state=42)\n",
    "ytrain = train['top20'].copy()\n",
    "Xtrain = train.drop(['top20'], axis=1).copy() # removing both target variables from features\n",
    "\n",
    "ytest = test['top20'].copy()\n",
    "Xtest = test.drop(['top20'], axis=1).copy() # removing both target variables from features\n",
    "\n",
    "# undersampling\n",
    "X_resampled, y_resampled = rus.fit_resample(Xtrain, ytrain)"
   ]
  },
  {
   "cell_type": "code",
   "execution_count": null,
   "metadata": {
    "_kg_hide-input": true,
    "_kg_hide-output": true,
    "_uuid": "b14580ef93488367f4cc6021dafcbbb4fb31dedc"
   },
   "outputs": [],
   "source": [
    "# fitting the model\n",
    "lreg = LogisticRegression(solver='liblinear', random_state=42)\n",
    "lreg.fit(X_resampled, y_resampled)\n",
    "\n",
    "# validating on test data\n",
    "display_scores(lreg, Xtest, ytest)"
   ]
  },
  {
   "cell_type": "code",
   "execution_count": null,
   "metadata": {
    "_kg_hide-input": false,
    "_kg_hide-output": false,
    "_uuid": "d828bb2ac77556ce44c54beb5514fcf83e60f9e2"
   },
   "outputs": [],
   "source": [
    "# Calculates the probabilities of belonging to Top20% per range of score based on test data\n",
    "calc_proba(lreg).to_frame()"
   ]
  },
  {
   "cell_type": "markdown",
   "metadata": {
    "_uuid": "a3893667ffa86d1f93c843a69e3615f23edd3225"
   },
   "source": [
    "### How input data will look like\n",
    "We will deploy a web page to collect some answers and send it to our model. We expect it to send us the content by QueryString parameters, after decoding that on AWS API Gateway we have a simple json that looks like this:"
   ]
  },
  {
   "cell_type": "code",
   "execution_count": null,
   "metadata": {
    "_uuid": "e9b290e968041af565e9047fdcb69f2870f38e81"
   },
   "outputs": [],
   "source": [
    "input_json = {\n",
    "    \"Q1\": \"q1_other\",\n",
    "    \"Q2\": \"q2_25_29\",\n",
    "    \"Q3\": \"q3_united_\",\n",
    "    \"Q4\": \"q4_other\",\n",
    "    \"Q6\": \"q6_student\",\n",
    "    \"Q7\": \"q7_other2\",\n",
    "    \"Q8\": \"q8_2_3\",\n",
    "    \"Q10\": \"q10_we_rec\",\n",
    "    \"q11_analyz\": \"on\",\n",
    "    \"q11_run_a_\": \"on\",\n",
    "    \"q11_build_\": \"on\",\n",
    "    \"q15_amazon\": \"on\",\n",
    "    \"other\": \"on\",\n",
    "    \"q16_python\": \"on\",\n",
    "    \"q16_sql\": \"on\",\n",
    "    \"Q23\": \"q23_25_to_\",\n",
    "    \"q31_catego\": \"on\",\n",
    "    \"q31_geospa\": \"on\",\n",
    "    \"q31_numeri\": \"on\",\n",
    "    \"q31_tabula\": \"on\",\n",
    "    \"q31_text_d\": \"on\",\n",
    "    \"q31_time_s\": \"on\",\n",
    "    \"q42_revenu\": \"on\"\n",
    "}"
   ]
  },
  {
   "cell_type": "markdown",
   "metadata": {
    "_uuid": "ccfe4f6de1116ff6ebea3af1afff7dd36cb66a03"
   },
   "source": [
    "To deploy this model we had basically two options:\n",
    "1. Export the model as as serialized object, load into AWS lambda and start making predictions.\n",
    "2. [Parametrize](https://en.wikipedia.org/wiki/Parametrization) the model and load all coefficients and intercept manually to Lambda.\n",
    "\n",
    "I'm choosing the second option because I want the model to be transparent to anyone. It should be clear what the coefficients are and how the score is calculated. A serialized model wouldn't let us see that in detail.\n",
    "\n",
    "#### Parametrization: What the hell is that?\n",
    "A Logistic Regression model can be written like this:\n",
    "\n",
    "```log-odds = b0 + b1x1 + b2x2 + ... + bnxn``` \n",
    "\n",
    "**Where:**\n",
    "* ```b0``` is the intercept\n",
    "* ```b1, b2, bn``` are the coefficients\n",
    "* ```x1, x2, xn``` are the variables\n",
    "\n",
    "We trained our model and got all coefficient's values. So it's just a matter of writing that equation manually. Then to get scores between 0 and 1 we do:\n",
    "\n",
    "```scores = 1 / (1 + exp(-(b0 + b1x1 + b2x2 + ... + bnxn)))```\n",
    "\n",
    "### Treating all model's coefficients to have a single naming convention"
   ]
  },
  {
   "cell_type": "code",
   "execution_count": null,
   "metadata": {
    "_kg_hide-input": true,
    "_uuid": "33591be0a5bd458a9c038599ebce8fa888221eb4"
   },
   "outputs": [],
   "source": [
    "import re\n",
    "# treating the questions to match the input json\n",
    "features = pd.DataFrame([Xtrain.columns, lreg.coef_[0]]).transpose()\n",
    "features.columns = ['feature', 'coefficient']\n",
    "features['answer'] = features.feature\n",
    "features['answer'] = features['answer'].apply(lambda x: re.sub(r\"[^a-zA-Z0-9]+\", ' ', x))\n",
    "features['answer'] = features['answer'].str.replace(' ', '_')\n",
    "features['answer'] = features['answer'].str.lower()\n",
    "features['answer'] = features['answer'].str.replace('_build_and_or_', '_')\n",
    "features['answer'] = features['answer'].str.replace('_metrics_that_consider_', '_')\n",
    "features['answer'] = features['answer'].str[:10]\n",
    "\n",
    "features['question_number'] = features['answer'].str.split('_').str[0]\n",
    "features = features[['question_number', 'answer', 'coefficient']]\n",
    "features.head(3)"
   ]
  },
  {
   "cell_type": "markdown",
   "metadata": {
    "_kg_hide-input": true,
    "_uuid": "9253a595e5ce44864da4f8568850edd471723a37"
   },
   "source": [
    "Then we treat the input json to keep it at the same naming convention."
   ]
  },
  {
   "cell_type": "code",
   "execution_count": null,
   "metadata": {
    "_kg_hide-input": true,
    "_uuid": "2608acf1d338e3d5c385e1fb789446952fa4252e"
   },
   "outputs": [],
   "source": [
    "# treating the input json to keep it in the same format as the coeficcients\n",
    "def treat_input(input_json):\n",
    "    treated = dict()\n",
    "    for key, value in input_json.items():\n",
    "        if key[0] == 'Q':\n",
    "            treated[value] = 1\n",
    "        else:\n",
    "            treated[key] = 1\n",
    "    return treated\n",
    "\n",
    "treated_input_json = treat_input(input_json)\n",
    "print('First 8 elements of the treated input:', dict(list(treated_input_json.items())[0:8]))"
   ]
  },
  {
   "cell_type": "markdown",
   "metadata": {
    "_uuid": "521dabaf11940312b79142cf60db43d9eb6e32f9"
   },
   "source": [
    "### Mapping input to coefficients and calculating the score"
   ]
  },
  {
   "cell_type": "markdown",
   "metadata": {
    "_uuid": "0c4183c87d89b00af3e23a6ead008be18b185416"
   },
   "source": [
    "Now we can map the input json to the coefficients to calculate the points."
   ]
  },
  {
   "cell_type": "code",
   "execution_count": null,
   "metadata": {
    "_kg_hide-input": true,
    "_uuid": "3f2b0d00884bbdb3995ec329112162e4a864d5a2"
   },
   "outputs": [],
   "source": [
    "features['positive'] = features['answer'].map(treated_input_json)\n",
    "features.fillna(0, inplace=True)\n",
    "features['points'] = features.positive * features.coefficient\n",
    "features.head(5)"
   ]
  },
  {
   "cell_type": "markdown",
   "metadata": {
    "_uuid": "c553669af41514fcd901c8c992c95d13c24b0b2f"
   },
   "source": [
    "To get the final score we sum all points, them sum it with the intercept and them normalize to get values between 0 and 1000."
   ]
  },
  {
   "cell_type": "code",
   "execution_count": null,
   "metadata": {
    "_kg_hide-input": true,
    "_uuid": "26ce5af9c5382b0974496c8b918f67ccb5470bca"
   },
   "outputs": [],
   "source": [
    "from math import exp\n",
    "# Creating a function to normalize the scores between 0 and 1000\n",
    "\n",
    "def normalize(points):\n",
    "    \"\"\"\n",
    "    Normalize to get values between 0 and 1000\n",
    "    \"\"\"\n",
    "    return int(1 / (1 + exp(-points)) * 1000)\n",
    "\n",
    "# suming all points + intercept then normalizing between 0 and 1\n",
    "score = features['points'].sum() + lreg.intercept_[0]\n",
    "print('Calculated score is:', normalize(score))"
   ]
  },
  {
   "cell_type": "markdown",
   "metadata": {
    "_uuid": "150eded8ec6e1a74837a1db8e6dbe633fcf728a3"
   },
   "source": [
    "## Implementing the parametrized model as a AWS Lambda Function.\n",
    "To get this model into production, we are creating a Lambda function that receives the input json through an API Gateway Integration, calculates the score and then returns it to the API. You can access the API by doing a simple POST with the input json at the body.\n",
    "\n",
    "[**All code for Lambda are available at this git.**](https://github.com/andresionek91/kaggle-top20-predictor)\n",
    "\n",
    "Instructions on how to deploy a model to AWS lambda were found on this [Towards Data Science post, by Ben Weber](https://towardsdatascience.com/data-science-for-startups-model-services-2facf2dde81d).\n",
    "\n",
    "### Below we test the API using requests\n",
    "Notice that the usage is limited to 1 request/second at this moment.\n"
   ]
  },
  {
   "cell_type": "code",
   "execution_count": null,
   "metadata": {
    "_uuid": "40f11d63c0b34e31589779b5661d8c6a5a5902c6"
   },
   "outputs": [],
   "source": [
    "import requests\n",
    "import json\n",
    "\n",
    "input_json = {\n",
    "    \"Q1\": \"q1_other\",\n",
    "    \"Q2\": \"q2_25_29\",\n",
    "    \"Q3\": \"q3_united_\",\n",
    "    \"Q4\": \"q4_other\",\n",
    "    \"Q6\": \"q6_student\",\n",
    "    \"Q7\": \"q7_other2\",\n",
    "    \"Q8\": \"q8_2_3\",\n",
    "    \"Q10\": \"q10_we_rec\",\n",
    "    \"q11_analyz\": \"on\",\n",
    "    \"q11_run_a_\": \"on\",\n",
    "    \"q11_build_\": \"on\",\n",
    "    \"q15_amazon\": \"on\",\n",
    "    \"other\": \"on\",\n",
    "    \"q16_python\": \"on\",\n",
    "    \"q16_sql\": \"on\",\n",
    "    \"Q23\": \"q23_25_to_\",\n",
    "    \"q31_catego\": \"on\",\n",
    "    \"q31_geospa\": \"on\",\n",
    "    \"q31_numeri\": \"on\",\n",
    "    \"q31_tabula\": \"on\",\n",
    "    \"q31_text_d\": \"on\",\n",
    "    \"q31_time_s\": \"on\",\n",
    "    \"q42_revenu\": \"on\"\n",
    "}\n",
    "\n",
    "treated_input_json = treat_input(input_json)\n",
    "header = {'Content-Type': 'application/x-www-form-urlencoded'}\n",
    "\n",
    "url = 'https://tk9k0fkvyj.execute-api.us-east-2.amazonaws.com/default/top20-predictor'\n",
    "\n",
    "requests.post(url, params=treated_input_json, headers=header).json()"
   ]
  },
  {
   "cell_type": "markdown",
   "metadata": {
    "_uuid": "4f76b1142d4e20e370d8f73081e9273fdfc4ce9c"
   },
   "source": [
    "## Getting the Number of Requests Made to the API\n",
    "Our Lambda function is also saving each input and the resulting score as a json object inside a S3 Bucket. We wrote another lambda function, and an API, to count the number of objects in a bucket."
   ]
  },
  {
   "cell_type": "code",
   "execution_count": null,
   "metadata": {
    "_uuid": "a795bf574159618b004dcfeb0f05cf2f53f8fdc8"
   },
   "outputs": [],
   "source": [
    "# Making a get to our API. It triggers a lambda function that counts the number of objects inside our bucket.\n",
    "url = 'https://wucg3iz2r4.execute-api.us-east-2.amazonaws.com/default/count-kaggle-top20-objects'\n",
    "requests.get(url).json()"
   ]
  },
  {
   "cell_type": "markdown",
   "metadata": {
    "_uuid": "50e0c948f93274433bf75223f2c1b75ae61b3edd"
   },
   "source": [
    "## Creating a Flask App\n",
    "Next we created a Flask App to run our html and collect answers from a form, send it to lambda and show the result to the user. It was deployed using AWS Beanstalk.\n",
    "\n",
    "[More detailed instructions on app deployment are available here](https://medium.com/p/2ece8e66d98c/)\n",
    "\n",
    "[You can access the working app here.](http://www.data-scientist-value.com/)\n",
    "\n",
    "[Or see the git with code to create the Flask App here.](https://github.com/andresionek91/data-scientist-value)"
   ]
  },
  {
   "cell_type": "markdown",
   "metadata": {
    "_uuid": "a99c923ef66e0151fb572bb3d68ba74d53606f62"
   },
   "source": [
    "# Have any question or idea?\n",
    "Please feel free to ask anything and criticize the work. Hope that you find it useful to define your career path."
   ]
  }
 ],
 "metadata": {
  "kernelspec": {
   "display_name": "Python 3",
   "language": "python",
   "name": "python3"
  },
  "language_info": {
   "codemirror_mode": {
    "name": "ipython",
    "version": 3
   },
   "file_extension": ".py",
   "mimetype": "text/x-python",
   "name": "python",
   "nbconvert_exporter": "python",
   "pygments_lexer": "ipython3",
   "version": "3.8.5"
  }
 },
 "nbformat": 4,
 "nbformat_minor": 1
}
