{
 "cells": [
  {
   "cell_type": "markdown",
   "metadata": {
    "_uuid": "9e0efcadb3649533cb128ce0a59beba1e095d46f"
   },
   "source": [
    "![\"Source From Wikipedia\"](https://cdn.pbrd.co/images/HRHar3o.jpg)"
   ]
  },
  {
   "cell_type": "markdown",
   "metadata": {
    "_uuid": "24c1d1c8b54f411c153229e0c142c240377ffe6c"
   },
   "source": [
    "# Problem Statement."
   ]
  },
  {
   "cell_type": "markdown",
   "metadata": {
    "_uuid": "3a2162d06326372d32e9060f1a6da0e4d3464995"
   },
   "source": [
    "In the most real world cases, there are definitely exists inequality between entities. Such as big companies and small companies, diligent people and not so diligent people, poors and richs, high achievers and lazy people. These kind of contrasts is fascinating to see and we can deep dig into their characteristics and know them better based on how they behave (as long as we got the data). In this Airbnb Seattle case we have listings data all over the city and we want to make an advantage of it. One of my objective here is to do simple comparison between top performer's acts ( the ones that have more bookings and great listing's rating ) and low performer ( the contrary ). Furthermore, in Airbnb's side they can give some recommendations to hosts and develops a new \"premium feature\" that can help some host to get more of their earnings or get more bookings."
   ]
  },
  {
   "cell_type": "markdown",
   "metadata": {
    "_uuid": "d7d340e5470b8e3a22fa7d1044ef488c2c841067"
   },
   "source": [
    "# How's the plan?"
   ]
  },
  {
   "cell_type": "markdown",
   "metadata": {
    "_uuid": "8cf2a2f77137eb2e00e013ed1a72aa5a77a9e071"
   },
   "source": [
    "As we want to make recommendations for the low earner hosts and make their listings more profitable and gain more revenue than before. This notebook do features comparison between listings that have high earning versus low earning listings (in term of # of reviews and rating of reviews). The features will be chosen based on their several top-rank correlation of a new feature called new_score_review. **New_score_review** is a feature of the multiplication of **reviews_per_month** and **review_scores_rating** and **divided by 100** (for the sake of simplicity). The creation of the new feature is intended as a approach to know which listings have more completed orders than someone else and great reviews from Guests as well since we dont have any number of completed order. Therefore, we could know what makes the top performer become top performer, and how the low performer one could adapt the behavior."
   ]
  },
  {
   "cell_type": "markdown",
   "metadata": {
    "_uuid": "63902a90f849d237fba4b047896eb62338f173f8"
   },
   "source": [
    "Codes for **Some of useful packages**, **self-buildfunctions**, and **plotly functions**."
   ]
  },
  {
   "cell_type": "code",
   "execution_count": null,
   "metadata": {
    "ExecuteTime": {
     "end_time": "2018-12-13T23:59:29.457766Z",
     "start_time": "2018-12-13T23:59:28.611999Z"
    },
    "_kg_hide-input": true,
    "_uuid": "0e81a918535df0c544a3f68063c8e388007566c3"
   },
   "outputs": [],
   "source": [
    "### IMPORT USEFUL PACKAGES ###\n",
    "import pandas as pd\n",
    "import glob\n",
    "import seaborn as sns\n",
    "import matplotlib.pyplot as plt\n",
    "import numpy as np\n",
    "import warnings\n",
    "\n",
    "from collections import Counter\n",
    "from scipy.stats.stats import pearsonr\n",
    "from string import ascii_letters\n",
    "\n",
    "# Some helper functions to make our plots cleaner with Plotly\n",
    "import plotly.graph_objs as go\n",
    "from plotly.offline import init_notebook_mode, iplot\n",
    "from plotly import tools\n",
    "init_notebook_mode(connected=True)\n",
    "\n",
    "pd.set_option('display.max_columns', 500)\n",
    "warnings.filterwarnings('ignore')\n",
    "%matplotlib inline\n",
    "\n",
    "def correction(x):\n",
    "    '''\n",
    "    Columns value corrections\n",
    "    '''\n",
    "    if type(x)==str:\n",
    "        x=x.replace('$','')\n",
    "        x=x.replace(',','')\n",
    "        x=float(x)    \n",
    "    return (x)\n",
    "\n",
    "def correction2(x):\n",
    "    '''\n",
    "    Columns value corrections\n",
    "    '''\n",
    "    if type(x)==str:\n",
    "        x=x.replace('%','')\n",
    "        x=float(x)/100.0\n",
    "    return (x)\n",
    "\n",
    "def to_int(x):\n",
    "    '''\n",
    "    Columns value corrections\n",
    "    '''\n",
    "    if x=='f':\n",
    "        x=x.replace('f','0')\n",
    "    elif x=='t':\n",
    "        x=x.replace('t','1')\n",
    "    else:\n",
    "        x= '0'\n",
    "    return int(x)\n",
    "\n",
    "def changeTime(x):\n",
    "    '''\n",
    "    change host_response_time columns from string into numerical.\n",
    "    '''\n",
    "    if x == 'within an hour':\n",
    "        x='1'\n",
    "    elif x == 'within a few hours':\n",
    "        x='4'\n",
    "    elif x == 'within a day':\n",
    "        x='24'\n",
    "    elif x == 'a few days or more':\n",
    "        x='48'\n",
    "    else:\n",
    "        x='96'\n",
    "        \n",
    "    return x\n",
    "\n",
    "\n",
    "def changeStr(x):\n",
    "    '''\n",
    "    change back the host_response_time from the numerical into strings\n",
    "    '''\n",
    "    if x == 1:\n",
    "        x='within an hour'\n",
    "    elif x == 4:\n",
    "        x='within a few hours'\n",
    "    elif x == 24:\n",
    "        x='within a day'\n",
    "    elif x == 48:\n",
    "        x= 'a few days or more'\n",
    "    elif x == 96:\n",
    "        x= 'Not Response'\n",
    "        \n",
    "    return x\n",
    "\n",
    "def createAmenities(x):\n",
    "    '''\n",
    "    Convert the Amenities column into more analytical words\n",
    "    '''\n",
    "    val = x.replace('{','').replace('}','').replace('\"','').replace(' ','_').replace(',',' ')\n",
    "    val = val.split()\n",
    "    return val\n",
    "\n",
    "\n",
    "def rangeScore(x):\n",
    "    '''\n",
    "    Set the bins for the score-range.\n",
    "    '''\n",
    "    value = ''\n",
    "    if (x>= 0 and x < 10):\n",
    "        value = '0-10'\n",
    "    elif (x>= 10 and x < 20):\n",
    "        value = '10-20'\n",
    "    elif (x>= 20 and x < 30):\n",
    "        value = '20-30'\n",
    "    elif (x>= 30.0 and x < 40.0):\n",
    "        value = '30-40'\n",
    "    elif (x>= 40 and x < 50):\n",
    "        value = '40-50'\n",
    "    elif (x>= 50 and x < 60):\n",
    "        value = '50-60'\n",
    "    elif (x>= 60 and x < 70):\n",
    "        value = '60-70'        \n",
    "    elif (x>= 70 and x < 80):\n",
    "        value = '70-80'\n",
    "    elif (x>= 80 and x < 90):\n",
    "        value = '80-90'\n",
    "    elif (x>= 90 and x < 100):\n",
    "        value = '90-100'\n",
    "    elif x>= 100:\n",
    "        value = '100+'\n",
    "        \n",
    "    return value\n",
    "\n",
    "\n",
    "'''\n",
    "    ### VIZ FUNCTIONS ###\n",
    "    this functions actually using the functions from\n",
    "    https://www.kaggle.com/andresionek/what-makes-a-kaggler-valuable/notebook\n",
    "'''\n",
    "\n",
    "def gen_xaxis(title):\n",
    "    \"\"\"\n",
    "    Creates the X Axis layout and title\n",
    "    \"\"\"\n",
    "    xaxis = dict(\n",
    "            title=title,\n",
    "            titlefont=dict(\n",
    "                color='#AAAAAA'\n",
    "            ),\n",
    "            showgrid=False,\n",
    "            color='#AAAAAA',\n",
    "            )\n",
    "    return xaxis\n",
    "\n",
    "\n",
    "def gen_yaxis(title):\n",
    "    \"\"\"\n",
    "    Creates the Y Axis layout and title\n",
    "    \"\"\"\n",
    "    yaxis=dict(\n",
    "            title=title,\n",
    "            titlefont=dict(\n",
    "                color='#AAAAAA'\n",
    "            ),\n",
    "            showgrid=False,\n",
    "            color='#AAAAAA',\n",
    "            )\n",
    "    return yaxis\n",
    "\n",
    "\n",
    "def gen_layout(charttitle, xtitle, ytitle, lmarg, h, annotations=None):  \n",
    "    \"\"\"\n",
    "    Creates whole layout, with both axis, annotations, size and margin\n",
    "    \"\"\"\n",
    "    return go.Layout(title=charttitle, \n",
    "                     height=h, \n",
    "                     width=800,\n",
    "                     showlegend=False,\n",
    "                     xaxis=gen_xaxis(xtitle), \n",
    "                     yaxis=gen_yaxis(ytitle),\n",
    "                     annotations = annotations,\n",
    "                     margin=dict(l=lmarg),\n",
    "                    )\n",
    "\n",
    "\n",
    "def gen_bars(data, color, orient):\n",
    "    \"\"\"\n",
    "    Generates the bars for plotting, with their color and orient\n",
    "    \"\"\"\n",
    "    bars = []\n",
    "    for label, label_df in data.groupby(color):\n",
    "        if orient == 'h':\n",
    "            label_df = label_df.sort_values(by='x', ascending=True)\n",
    "        if label == 'a':\n",
    "            label = 'lightgray'\n",
    "        bars.append(go.Bar(x=label_df.x,\n",
    "                           y=label_df.y,\n",
    "                           name=label,\n",
    "                           marker={'color': label},\n",
    "                           orientation = orient\n",
    "                          )\n",
    "                   )\n",
    "    return bars\n",
    "\n",
    "\n",
    "def gen_annotations(annot):\n",
    "    \"\"\"\n",
    "    Generates annotations to insert in the chart\n",
    "    \"\"\"\n",
    "    if annot is None:\n",
    "        return []\n",
    "    \n",
    "    annotations = []\n",
    "    # Adding labels\n",
    "    for d in annot:\n",
    "        annotations.append(dict(xref='paper', x=d['x'], y=d['y'],\n",
    "                           xanchor='left', yanchor='bottom',\n",
    "                           text= d['text'],\n",
    "                           font=dict(size=13,\n",
    "                           color=d['color']),\n",
    "                           showarrow=False))\n",
    "    return annotations\n",
    "\n",
    "\n",
    "def generate_barplot(text, annot_dict, orient='v', lmarg=120, h=400):\n",
    "    \"\"\"\n",
    "    Generate the barplot with all data, using previous helper functions\n",
    "    \"\"\"\n",
    "    layout = gen_layout(text[0], text[1], text[2], lmarg, h, gen_annotations(annot_dict))\n",
    "    fig = go.Figure(data=gen_bars(barplot, 'color', orient=orient), layout=layout)\n",
    "    return iplot(fig)"
   ]
  },
  {
   "cell_type": "markdown",
   "metadata": {
    "_uuid": "989adf6c0669ae21eb73ff9da0593dfe42847158"
   },
   "source": [
    "**A new feature creations.** new_score_reviews creations from number of score  x frequency feature."
   ]
  },
  {
   "cell_type": "code",
   "execution_count": null,
   "metadata": {
    "_kg_hide-input": true,
    "_uuid": "c8a627e09076f9bd46d156aa0349e50ef055d03e"
   },
   "outputs": [],
   "source": [
    "### import files ###\n",
    "\n",
    "csvs = glob.glob('../input/*.csv')\n",
    "base= pd.read_csv(csvs[0])\n",
    "listings_df= base.copy()\n",
    "listings_df.head(2)\n",
    "\n",
    "    ### create a new metrics ###\n",
    "\n",
    "listings_df['new_score_reviews2'] = listings_df['reviews_per_month'] * listings_df['review_scores_rating'] / 10\n",
    "listings_df['new_score_reviews2'].fillna(0, inplace = True)"
   ]
  },
  {
   "cell_type": "markdown",
   "metadata": {
    "_uuid": "38f6b1c1641fbc94521f18ca01ce2eb4f85c9d00"
   },
   "source": [
    "**Decide the threshold** of Top Performer and Low Performer listings. I defined the first threshold based on the 1st quartile of *new_score_review* so the listings that score less than the 1st threshold will be classified as the low performer and for the classification of top performer I defined whom listings' score more than 90% quartile."
   ]
  },
  {
   "cell_type": "code",
   "execution_count": null,
   "metadata": {
    "ExecuteTime": {
     "end_time": "2018-12-06T16:09:14.215181Z",
     "start_time": "2018-12-06T16:09:14.207801Z"
    },
    "_kg_hide-input": true,
    "_uuid": "12c5fac6509c79d4aae2776d545b0ae8b85eada0"
   },
   "outputs": [],
   "source": [
    "'''\n",
    "the definition and print the value.\n",
    "'''\n",
    "top90flag = listings_df['new_score_reviews2'].quantile(0.9)\n",
    "upto25flag = listings_df['new_score_reviews2'].quantile(0.25)\n",
    "\n",
    "listings_df['top90'] = listings_df.new_score_reviews2 >= top90flag\n",
    "listings_df['upto25'] = listings_df.new_score_reviews2 <= upto25flag\n",
    "\n",
    "print('The boundaries of top performer listings:',top90flag)\n",
    "print('The boundaries of low performer listings:',upto25flag)"
   ]
  },
  {
   "cell_type": "markdown",
   "metadata": {
    "_uuid": "ea4e9898616cc4f484ab379455f921623adb4e27"
   },
   "source": [
    "**Visualize the defined class**  "
   ]
  },
  {
   "cell_type": "code",
   "execution_count": null,
   "metadata": {
    "_kg_hide-input": true,
    "_uuid": "8efe44fd58c09020e91a45c313592887cfbf905e"
   },
   "outputs": [],
   "source": [
    "### Create a table for the visualization essentials ###\n",
    "### Generate score bins, creating new tables for the class colors, and count distributions of each bins. ###\n",
    "# a columns of bins.\n",
    "listings_df['score_ranges'] = listings_df['new_score_reviews2'].apply(rangeScore)\n",
    "\n",
    "# table coloring purpose.\n",
    "top90 = listings_df.groupby('score_ranges', as_index = False)['top90'].max(key = 'count').rename(columns={'score_ranges':'Score'})\n",
    "upto25 = listings_df.groupby('score_ranges', as_index = False)['upto25'].max(key = 'count').rename(columns={'score_ranges':'Score'})\n",
    "\n",
    "# count distributions of score bins.\n",
    "barplot = listings_df[['id','new_score_reviews2']]\n",
    "barplot['Qty'] = barplot['new_score_reviews2'].apply(rangeScore)\n",
    "barplot = barplot.Qty.value_counts(sort=True).to_frame().reset_index()\n",
    "barplot = barplot.rename(columns={'index': 'Score'})\n",
    "\n",
    "# merging color flag.\n",
    "barplot = barplot.merge(top90, on = 'Score')\n",
    "barplot = barplot.merge(upto25)\n",
    "# creating color for the vis.\n",
    "barplot['color'] = barplot.top90.apply(lambda x: 'mediumaquamarine' if x else 'lightgray')\n",
    "# manually change the color of the first index become crimson, to indicate the class of low performer listings.\n",
    "barplot.iloc[0,4] = 'crimson'\n",
    "\n",
    "# change Score column and Qty column into x and y for the vis purpose.\n",
    "barplot = barplot.rename(columns={'Score':'x','Qty':'y'})\n",
    "\n",
    "# Some of the annotations for the vis.\n",
    "title_text = ['<b>Comparison Listings Performance between Top Performer and Low Performer</b>', 'Reviews per Month x Review Score Ratings / 10', 'Quantity of Listings']\n",
    "annotations = [{'x': 0.03, 'y': 1900, 'text': 'Low Performer Had Score Up to 25 Percentile','color': 'gray'},\n",
    "              {'x': 0.39, 'y': 300, 'text': 'Top Performer Had Score above 90 Percentile','color': 'mediumaquamarine'}]\n",
    "\n",
    "generate_barplot(title_text, annotations)"
   ]
  },
  {
   "cell_type": "markdown",
   "metadata": {
    "_uuid": "bf1e258b915dbad57d824b28f63e9b9d1bae2a8e"
   },
   "source": [
    "On the bar chat above the red bar one is the low performer it represents under percentile 0.25 of the score and the aquamarine one is the high performer it has score more than 90 percentile of the distributions."
   ]
  },
  {
   "cell_type": "markdown",
   "metadata": {
    "_uuid": "927a0138387842ccc0c073f95dc67e6c1bea55f0"
   },
   "source": [
    "## Correlation between all reasonable features and the new_score_reviews2."
   ]
  },
  {
   "cell_type": "markdown",
   "metadata": {
    "_uuid": "c607fcd77e31f0eecfc128dca493c583a1317c50"
   },
   "source": [
    "In this phase, we **excluded the useless columns**, **tidying some columns**, **change some dtypes**, **fill the null numbers**, and **select only numberic number that usefull for our correlations point**."
   ]
  },
  {
   "cell_type": "code",
   "execution_count": null,
   "metadata": {
    "ExecuteTime": {
     "end_time": "2018-12-06T16:09:22.707486Z",
     "start_time": "2018-12-06T16:09:22.583214Z"
    },
    "_kg_hide-input": true,
    "_uuid": "d6867d0b356ca7c417c15666e111f015b5abbb4c"
   },
   "outputs": [],
   "source": [
    "#some useless columns: url, and unique value all of the rows. \n",
    "unique_value_columns=[]\n",
    "url_columns=[]\n",
    "\n",
    "for i in listings_df.columns:\n",
    "    \n",
    "    if len((listings_df[i]).unique())==1:\n",
    "        print ('a un-used column because same value:', i, (listings_df[i]).unique())\n",
    "        unique_value_columns=unique_value_columns+[i]\n",
    "    if 'url' in i:\n",
    "        url_columns=url_columns+[i]\n",
    "        \n",
    "# url columns.\n",
    "# print ('\\n''url columns:\\n\\n', url_columns)\n",
    "# unique value columns.\n",
    "# print ('\\n''unique value columns:\\n\\n', unique_value_columns)\n",
    "\n",
    "# Drop it.\n",
    "listings_df = listings_df.drop(url_columns+unique_value_columns, axis = 1)"
   ]
  },
  {
   "cell_type": "markdown",
   "metadata": {
    "_uuid": "f42c0c4f9e2a1513396aa736b4a3202141a1aede"
   },
   "source": [
    "**Major Preprocessing Data,** using self-built functions, fill the null number, etc."
   ]
  },
  {
   "cell_type": "code",
   "execution_count": null,
   "metadata": {
    "ExecuteTime": {
     "end_time": "2018-12-06T16:09:23.900649Z",
     "start_time": "2018-12-06T16:09:23.236868Z"
    },
    "_kg_hide-input": true,
    "_uuid": "286f16ef1005056be302b62860493322f12d2e3f"
   },
   "outputs": [],
   "source": [
    "# Change the string of boolean (t / f) into int of boolean (1/0)\n",
    "for i in listings_df.columns:\n",
    "    \n",
    "    if set(listings_df[i])=={'t','f'}:\n",
    "        listings_df[i]=listings_df[i].apply(to_int)\n",
    "        \n",
    "    elif set(listings_df[i]) == {'t','f',np.nan}:\n",
    "        listings_df[i]=listings_df[i].apply(to_int)\n",
    "        \n",
    "# Dollar corrections.\n",
    "listings_df['price']=listings_df['price'].map(lambda x: correction(x))\n",
    "listings_df['weekly_price'] = listings_df['weekly_price'].map(lambda x: correction(x))\n",
    "listings_df['monthly_price'] = listings_df['monthly_price'].map(lambda x: correction(x))\n",
    "listings_df['security_deposit'] = listings_df['security_deposit'].map(lambda x: correction(x))\n",
    "listings_df['cleaning_fee'] = listings_df['cleaning_fee'].map(lambda x: correction(x))\n",
    "listings_df['extra_people'] = listings_df['extra_people'].map(lambda x: correction(x))\n",
    "\n",
    "# Change the rate percentage.\n",
    "listings_df['host_response_rate'] = listings_df['host_response_rate'].fillna('0%').apply(correction2)\n",
    "listings_df['host_acceptance_rate'] = listings_df['host_acceptance_rate'].fillna('0%').apply(correction2)\n",
    "\n",
    "# Change time indicators\n",
    "listings_df['host_response_time'] = listings_df['host_response_time'].apply(changeTime).astype(int)\n",
    "\n",
    "# Amenities change into reproduceable column.\n",
    "listings_df['amenities']= base['amenities']\n",
    "listings_df['array_amenities'] = listings_df['amenities'].apply(lambda x: createAmenities(x))\n",
    "listings_df['len_amenities'] = listings_df['amenities'].apply(lambda x: len(createAmenities(x)))\n",
    "\n",
    "# filling some null value.\n",
    "listings_df['security_deposit'].fillna(0, inplace = True)\n",
    "listings_df['cleaning_fee'].fillna(0, inplace = True)\n",
    "\n",
    "# Pick onlly the relevant columns\n",
    "# relevant_columns = list(listings_df.columns)\n",
    "\n",
    "# Some irrelevant columns personally\n",
    "irrelevant_colmuns = ['id','host_id','host_listings_count','host_total_listings_count','latitude','longitude','is_location_exact','square_feet','price','weekly_price','monthly_price','minimum_nights','maximum_nights','availability_30','availability_60','availability_90','number_of_reviews','review_scores_rating','review_scores_accuracy','review_scores_cleanliness','review_scores_checkin','review_scores_checkin','review_scores_communication','review_scores_location','review_scores_value','calculated_host_listings_count','reviews_per_month','require_guest_profile_picture','require_guest_phone_verification']\n",
    "relevant_df = listings_df.drop(irrelevant_colmuns, axis = 1)\n",
    "\n",
    "# pick only numerical columns\n",
    "# listings_df= listings_df.select_dtypes(np.number)"
   ]
  },
  {
   "cell_type": "markdown",
   "metadata": {
    "_uuid": "d4ad08ff82bdfda956f8355c90ba716f9c6be456"
   },
   "source": [
    "**Correlation Plots,** present the correlation figures."
   ]
  },
  {
   "cell_type": "code",
   "execution_count": null,
   "metadata": {
    "ExecuteTime": {
     "end_time": "2018-12-06T16:09:26.935213Z",
     "start_time": "2018-12-06T16:09:26.255960Z"
    },
    "_kg_hide-input": true,
    "_uuid": "d2d2ba94b8483c3ffb01677462e0755412b0a479"
   },
   "outputs": [],
   "source": [
    "sns.set(style=\"white\")\n",
    "\n",
    "# Compute the correlation matrix 'top90', 'upto25', .drop(['scrape_id', 'license'], axis=1)\n",
    "corr = relevant_df.corr()\n",
    "\n",
    "# Generate a mask for the upper triangle\n",
    "mask = np.zeros_like(corr, dtype=np.bool)\n",
    "mask[np.triu_indices_from(mask)] = True\n",
    "\n",
    "# Set up the matplotlib figure\n",
    "f, ax = plt.subplots(figsize=(11, 9))\n",
    "\n",
    "# Generate a custom diverging colormap\n",
    "cmap = sns.diverging_palette(220, 10, as_cmap=True)\n",
    "\n",
    "# Draw the heatmap with the mask and correct aspect ratio\n",
    "sns.heatmap(corr, mask=mask, cmap=cmap, vmax=.3, center=0,\n",
    "            square=True, linewidths=.5, cbar_kws={\"shrink\": .5})"
   ]
  },
  {
   "cell_type": "code",
   "execution_count": null,
   "metadata": {
    "ExecuteTime": {
     "end_time": "2018-12-06T16:09:26.986016Z",
     "start_time": "2018-12-06T16:09:26.938086Z"
    },
    "_kg_hide-input": true,
    "_uuid": "def2caaa97940f3cb22bf635e012087938d391cb"
   },
   "outputs": [],
   "source": [
    "A=relevant_df.corr().unstack().sort_values(ascending=False)\n",
    "print('The correlation of the new_score_reviews against all:', A['new_score_reviews2'][1:-1])"
   ]
  },
  {
   "cell_type": "markdown",
   "metadata": {
    "_uuid": "bb2ebc5730192cc4e1d7fbad4bb63777ca0ea0e4"
   },
   "source": [
    "On the line above there are several metrics that have (not so) strong correlation, it's quite enough as the feature that we can scrutinize and study between listings characteristics that we have defined. The main features are `host_acceptance_rate`, `host_is_superhost`,  `host_response_rate`,  `instant_bookable`, `host_identity_verified`, `len_amenities`, and `host_response_time`."
   ]
  },
  {
   "cell_type": "markdown",
   "metadata": {
    "_uuid": "e199ebb31cb5c0f6d7451a758dfad5cbc405f160"
   },
   "source": [
    "\n",
    "## Comparations Graphs."
   ]
  },
  {
   "cell_type": "code",
   "execution_count": null,
   "metadata": {
    "ExecuteTime": {
     "end_time": "2018-12-06T16:09:27.010301Z",
     "start_time": "2018-12-06T16:09:26.990854Z"
    },
    "_kg_hide-input": true,
    "_uuid": "7694ea9b2ba2269c0374a6842c37a65b6b0f1348"
   },
   "outputs": [],
   "source": [
    "### defide them into 2 dataframe class ###\n",
    "\n",
    "top_listings = listings_df[listings_df['new_score_reviews2'] >= np.percentile(listings_df['new_score_reviews2'],90)]\n",
    "low_listings = listings_df[listings_df['new_score_reviews2'] <= np.percentile(listings_df['new_score_reviews2'],25)]\n",
    "\n",
    "### Host Acceptance Rate DataFrame ###\n",
    "\n",
    "hostAR_top_performer = pd.DataFrame(top_listings['host_acceptance_rate'].reset_index(drop = True))\n",
    "hostAR_top_performer['status'] = 'Top Performer'\n",
    "\n",
    "hostAR_low_performer = pd.DataFrame(low_listings['host_acceptance_rate'].reset_index(drop = True))\n",
    "hostAR_low_performer['status'] = 'Low Performer'\n",
    "\n",
    "hostAR = hostAR_low_performer.append(hostAR_top_performer).sample(frac=1)\n",
    "\n",
    "### Identity verified.\n",
    "\n",
    "identify_verified_top = pd.DataFrame(top_listings['host_identity_verified'].reset_index(drop = True))\n",
    "identify_verified_top['status'] = 'Top Performer'\n",
    "\n",
    "identify_verified_low = pd.DataFrame(low_listings['host_identity_verified'].reset_index(drop = True))\n",
    "identify_verified_low['status'] = 'Low Performer'\n",
    "\n",
    "identify_verified = identify_verified_low.append(identify_verified_top).sample(frac=1)\n",
    "\n",
    "### Host is Superhost DataFrame\n",
    "\n",
    "superhost_top_performer = pd.DataFrame(top_listings['host_is_superhost'].reset_index(drop = True))\n",
    "superhost_top_performer['status'] = 'Top Performer'\n",
    "\n",
    "superhost_low_performer = pd.DataFrame(low_listings['host_is_superhost'].reset_index(drop = True))\n",
    "superhost_low_performer['status'] = 'Low Performer'\n",
    "\n",
    "superhost = superhost_top_performer.append(superhost_low_performer).sample(frac=1)\n",
    "\n",
    "### instant bookable\n",
    "\n",
    "instantBookable_top_performer = pd.DataFrame(top_listings['instant_bookable'].reset_index(drop = True))\n",
    "instantBookable_top_performer['status'] = 'Top Performer'\n",
    "\n",
    "instantBookable_low_performer = pd.DataFrame(low_listings['instant_bookable'].reset_index(drop = True))\n",
    "instantBookable_low_performer['status'] = 'Low Performer'\n",
    "\n",
    "host_bookable = instantBookable_low_performer.append(instantBookable_top_performer).sample(frac=1)\n",
    "\n",
    "### Host response Rate.\n",
    "\n",
    "top_listings['host_response_time_str'] = top_listings['host_response_time'].apply(changeStr)\n",
    "low_listings['host_response_time_str'] = low_listings['host_response_time'].apply(changeStr)\n",
    "\n",
    "host_response_top = pd.DataFrame(top_listings['host_response_time_str'].reset_index(drop = True))\n",
    "host_response_top['status'] = 'Top Performer'\n",
    "\n",
    "host_response_low = pd.DataFrame(low_listings['host_response_time_str'].reset_index(drop = True))\n",
    "host_response_low['status'] = 'Low Performer'\n",
    "\n",
    "host_response = host_response_low.append(host_response_top).sample(frac=1)\n",
    "\n",
    "### **Host Response time.**\n",
    "\n",
    "host_responserate_top_performer = pd.DataFrame(top_listings['host_response_rate'].reset_index(drop = True))\n",
    "host_responserate_top_performer['status'] = 'Top Performer'\n",
    "\n",
    "host_responserate_low_performer = pd.DataFrame(low_listings['host_response_rate'].reset_index(drop = True))\n",
    "host_responserate_low_performer['status'] = 'Low Performer'\n",
    "\n",
    "host_responserate = host_responserate_low_performer.append(host_responserate_top_performer).sample(frac=1)\n",
    "# ---\n",
    "percentage_low = list(host_responserate[host_responserate['status'] == 'Low Performer']['host_response_rate'].unique())\n",
    "percentage_low.sort(reverse = True)\n",
    "percentage_top = list(host_responserate[host_responserate['status'] == 'Top Performer']['host_response_rate'].unique())\n",
    "percentage_top.sort(reverse = True)\n",
    "host_responserate_fig = host_responserate[host_responserate['host_response_rate'].isin([1.0, 0.99, 0.96, 0.95, 0.94, 0.0])]\n",
    "\n",
    "### collecting data into one array ###\n",
    "data= []\n",
    "data.append(hostAR)\n",
    "data.append(identify_verified)\n",
    "data.append(superhost)\n",
    "data.append(host_bookable)\n",
    "data.append(host_response)\n",
    "data.append(host_responserate_fig)"
   ]
  },
  {
   "cell_type": "code",
   "execution_count": null,
   "metadata": {
    "_kg_hide-input": true,
    "_uuid": "6060804f281f4f239038bd1db6f088919f3694d2"
   },
   "outputs": [],
   "source": [
    "### Vis ###\n",
    "\n",
    "fig, ax = plt.subplots(figsize=(15,20), nrows=3, ncols=2)\n",
    "x_data= ['host_acceptance_rate','host_identity_verified','host_is_superhost','instant_bookable','host_response_time_str','host_response_rate']\n",
    "title= ['Acceptance Rate','# of identified listings','Superhost Listings', 'Instant Bookable Feature', 'How long hosts will respond?' , 'Responses Probability']\n",
    "\n",
    "x_axis= ['Percentage','Activate/Not','True/Not','Activate/Not', 'Respond Time', 'Respond Rate']\n",
    "y_axis= ['Count']\n",
    "cnt=0\n",
    "\n",
    "for x in range(3):\n",
    "    for y in range(2):\n",
    "        \n",
    "        ax[x][y].set_title(title[cnt], fontsize=12)\n",
    "        sns.countplot(x=x_data[cnt], hue='status', data=data[cnt], palette='GnBu_d', orient='h', ax=ax[x][y])\n",
    "        plt.setp(ax[x][y].get_legend().get_texts(), fontsize='8') # for legend text\n",
    "        plt.setp(ax[x][y].get_legend().get_title(), fontsize='10') # for legend title\n",
    "        plt.xticks(fontsize=8, rotation=45)\n",
    "        plt.yticks(fontsize=8)\n",
    "        plt.xlabel(x_axis[cnt], fontsize=13)\n",
    "        p=plt.ylabel(y_axis[0], fontsize=13)\n",
    "        \n",
    "        cnt+=1"
   ]
  },
  {
   "cell_type": "code",
   "execution_count": null,
   "metadata": {
    "_kg_hide-input": true,
    "_uuid": "e95c18692e5e65903c52c209ff98fdd1f832d6c7"
   },
   "outputs": [],
   "source": [
    "### table preparations\n",
    "\n",
    "viz1 = top_listings[['len_amenities','id']].groupby(['len_amenities']).count().sort_values(by='id', ascending=False).head(7)\n",
    "viz1['percentage'] = viz1['id'] / viz1['id'].sum()\n",
    "viz2 = low_listings[['len_amenities','id']].groupby(['len_amenities']).count().sort_values(by='id', ascending=False).head(7)\n",
    "viz2['percentage'] = viz2['id'] / viz2['id'].sum()\n",
    "\n",
    "ids = [room for room in top_listings['id']]\n",
    "viz_base1 = listings_df[listings_df['id'].isin(ids)].reset_index(drop = True)\n",
    "arr = []\n",
    "for row in range(viz_base1.shape[0]):\n",
    "    arr = arr+viz_base1['array_amenities'][row]\n",
    "    \n",
    "test3 = Counter(arr)\n",
    "viz3 = test3.most_common(10)\n",
    "viz3 = pd.DataFrame(viz3).rename(columns={0:'name',1:'frequency'})\n",
    "viz3['percentage'] = viz3['frequency'] / viz_base1.shape[0]\n",
    "viz3.index = viz3['name']\n",
    "viz3 = viz3.drop('name', axis = 1)\n",
    "\n",
    "ids = [room for room in low_listings['id']]\n",
    "viz_base2 = listings_df[listings_df['id'].isin(ids)].reset_index(drop = True)\n",
    "arr = []\n",
    "for row in range(viz_base2.shape[0]):\n",
    "    arr = arr+viz_base2['array_amenities'][row]\n",
    "    \n",
    "test4 = Counter(arr)\n",
    "\n",
    "viz4 = test4.most_common(10)\n",
    "viz4 = pd.DataFrame(viz4).rename(columns={0:'name',1:'frequency'})\n",
    "viz4['percentage'] = viz4['frequency'] / viz_base2.shape[0]\n",
    "viz4.index = viz4['name']\n",
    "viz4 = viz4.drop('name', axis = 1)\n",
    "\n",
    "### visualization\n",
    "\n",
    "fig, ax= plt.subplots(figsize= (30,17), nrows=2, ncols= 2)\n",
    "sns.barplot(y=viz2.index.astype(str) + '_types',x=viz2['id'], ax=ax[0][0]).set_title('How much amenities does top 10% provide in every service', fontsize=11)\n",
    "sns.barplot(y=viz1.index.astype(str) + '_types',x=viz1['id'], ax=ax[0][1]).set_title('How much amenities does Low Performer provide in every service', fontsize=11)\n",
    "sns.barplot(y=viz4.index,x=viz4[\"percentage\"], ax=ax[1][0]).set_title('The top miscellaneous provided by hosts (Low-Performancer Listings)', fontsize=11)\n",
    "sns.barplot(y=viz3.index,x=viz3[\"percentage\"], ax=ax[1][1]).set_title('The top miscellaneous provided by hosts (Top-Performer Listings)', fontsize=11)"
   ]
  },
  {
   "cell_type": "markdown",
   "metadata": {
    "_uuid": "f0fd92307bb527c001a9f9285799356de9d87aa3"
   },
   "source": [
    "# Figures Interpretation."
   ]
  },
  {
   "cell_type": "markdown",
   "metadata": {
    "_uuid": "ff4dca1657527121ef53eb4c9f9d65efcf567cc0"
   },
   "source": [
    "**Insights** of features comparison (from top to bottom):\n",
    "\n",
    "* Acceptance Rate:\n",
    "    - TP: Almost all of the top listings always accepts bookings.\n",
    "    - LP: Almost half of them never really accept the bookings.\n",
    "* Host Identity Verified:\n",
    "    - TP: Almost 90% of the host’s listings has been identified by Airbnb.\n",
    "    - LP: 38% of host’s listings hasn't been identified by Airbnb.\n",
    "* Superhost:\n",
    "    - TP: 40% Top listings have Superhost Predicate.\n",
    "    - LP: Most of the low performers are not superhosts.\n",
    "* Instant Booking Feature:\n",
    "    - TP: Eventhough, have big contribution on the score most of the top listings don’t activate their instant_booking by ~62%\n",
    "    - LP: More than 90% they turn off the instant bookable.\n",
    "* Respond Time:\n",
    "    - TP: ~78% of top listings’ hosts always response conversations immediately.\n",
    "    - LP: Many of host of low performer listings respond the conversation longer than top-performer listings.\n",
    "* Respond the Conversations: \n",
    "    - TP: Most of the top listings in Seattle always response conversations.\n",
    "    - LP: A lot of low performer never response the conversation.\n",
    "* Amenities:\n",
    "    - TP & LP: They serve assorted miscellaneous in the top listings; most of them provide wireless internet, heating, essentials, smoke detector, shampoo, etc. There are not much difference between low performer and top performer listings about the amenities.\n",
    "    \n",
    "    *TP: topperformer | LP: lowperformer*"
   ]
  },
  {
   "cell_type": "markdown",
   "metadata": {
    "_uuid": "accb4c469aadf66c479baf19bd50b54f6d1d80c2"
   },
   "source": [
    "# Suggestions for Hosts."
   ]
  },
  {
   "cell_type": "markdown",
   "metadata": {
    "_uuid": "e1762f66f9c5d4210596aed962374b8cb1e3639a"
   },
   "source": [
    "*Therefore,* to conclude the analysis there are several points that low-performer could do to increase their probability to get more bookings, reviews, and higher number of reviews; \n",
    "\n",
    "1. **Increase the acceptance rate of the rental.** Top performer almost never reject the orders, not like low performers around 45% of the listings that did not accept any bookings. Although we do not know the reason why the hosts did not accept the orders;\n",
    "2. **Be responsive** most of the top performer hosts always giving response within an hour about 80% of all the time.\n",
    "3. **Be a superhost.** It’s the status and the recognition from the Airbnb because they provide amazing experience and great example for other hosts.\n",
    "4. **Always response the conversations.** More responsive the hosts, more better the score it would be. Top performers always response to every conversation. \n",
    "5. **Activate the instant bookable features;** They give better experience to the future guests.\n",
    "6. **Make your account verified by Airbnb.** Many of low performer accounts have not verified by Airbnb more than the high performer by 25%.\n",
    "\n",
    "*Future development plan: *This new comprehensive recommendations feature, could be attached in every page of User Interface that have Informations about those variables, notifications, or other forms of reminders to the eligible hosts. Hosts that subscribe this feature could be charge in reasonable price.!"
   ]
  }
 ],
 "metadata": {
  "hide_input": false,
  "kernelspec": {
   "display_name": "Python 3",
   "language": "python",
   "name": "python3"
  },
  "language_info": {
   "codemirror_mode": {
    "name": "ipython",
    "version": 3
   },
   "file_extension": ".py",
   "mimetype": "text/x-python",
   "name": "python",
   "nbconvert_exporter": "python",
   "pygments_lexer": "ipython3",
   "version": "3.8.5"
  },
  "toc": {
   "nav_menu": {},
   "number_sections": true,
   "sideBar": true,
   "skip_h1_title": false,
   "toc_cell": false,
   "toc_position": {},
   "toc_section_display": "block",
   "toc_window_display": true
  }
 },
 "nbformat": 4,
 "nbformat_minor": 1
}
